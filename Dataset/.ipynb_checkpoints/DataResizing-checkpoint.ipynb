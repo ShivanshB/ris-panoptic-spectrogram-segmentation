{
 "cells": [
  {
   "cell_type": "markdown",
   "id": "7adaab18",
   "metadata": {},
   "source": [
    "# Data Resizing\n",
    "I will be resizing and cropping my training data so that it's easier for my model to process and learn from"
   ]
  },
  {
   "cell_type": "code",
   "execution_count": 6,
   "id": "d1573f22",
   "metadata": {},
   "outputs": [],
   "source": [
    "import PIL\n",
    "import os\n",
    "\n",
    "from PIL import Image"
   ]
  },
  {
   "cell_type": "code",
   "execution_count": 8,
   "id": "032f0791",
   "metadata": {},
   "outputs": [],
   "source": [
    "full_size = sorted(os.listdir(\"/home/sbaveja/reu-files/Dataset/Spectrograms/Infragravity-Swells/\"))"
   ]
  },
  {
   "cell_type": "code",
   "execution_count": 9,
   "id": "b15e9500",
   "metadata": {},
   "outputs": [
    {
     "name": "stdout",
     "output_type": "stream",
     "text": [
      "XH.DR02.--.LHN: 2014-11-22T00:00:00.000000Z-2014-12-04T00:00:00.000000Z.png\n"
     ]
    }
   ],
   "source": [
    "# extracting the time stamp from the file name\n",
    "print(full_size[0])\n",
    "\n",
    "rx = r\"XH\\.DR02\\.--\\.LHN: (.*)T00:00:00\\.000000Z-(.*)T00:00:00\\.000000Z\\.png\""
   ]
  },
  {
   "cell_type": "code",
   "execution_count": 3,
   "id": "79ca9ca6",
   "metadata": {},
   "outputs": [],
   "source": [
    "i = 1\n",
    "\n",
    "for image in full_size:   \n",
    "    \n",
    "    img = Image.open(f\"/home/sbaveja/reu-files/Dataset/Spectrograms/Infragravity-Swells/{image}\")\n",
    "#     defining cropping boxes\n",
    "    box1 = (0, 6, 432, 230)\n",
    "    box2 = (432, 6, 864, 230)\n",
    "    box3 = (863, 6, 1295, 230)\n",
    "#     sizes needed to be divisible by 16 for the model, and the images originally were 1295 pixels, so width \n",
    "#     432 w/ one pixel overlap is best\n",
    "\n",
    "#     cropping all of the images in their respective boxes and converting to RGB\n",
    "    img1 = img.crop(box1).convert('RGB')\n",
    "    img2 = img.crop(box2).convert('RGB')\n",
    "    img3 = img.crop(box3).convert('RGB')\n",
    "    \n",
    "#     saving all of the cropped images\n",
    "    img1.save(f\"/home/sbaveja/reu-files/Dataset/Spectrograms/Cropped/{i}.jpg\")\n",
    "    i += 1\n",
    "    \n",
    "    img2.save(f\"/home/sbaveja/reu-files/Dataset/Spectrograms/Cropped/{i}.jpg\")\n",
    "    i += 1\n",
    "    \n",
    "    img3.save(f\"/home/sbaveja/reu-files/Dataset/Spectrograms/Cropped/{i}.jpg\")\n",
    "    i += 1"
   ]
  }
 ],
 "metadata": {
  "kernelspec": {
   "display_name": "Python 3 (ipykernel)",
   "language": "python",
   "name": "python3"
  },
  "language_info": {
   "codemirror_mode": {
    "name": "ipython",
    "version": 3
   },
   "file_extension": ".py",
   "mimetype": "text/x-python",
   "name": "python",
   "nbconvert_exporter": "python",
   "pygments_lexer": "ipython3",
   "version": "3.9.12"
  }
 },
 "nbformat": 4,
 "nbformat_minor": 5
}
