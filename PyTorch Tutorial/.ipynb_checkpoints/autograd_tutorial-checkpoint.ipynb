{
 "cells": [
  {
   "cell_type": "code",
   "execution_count": 2,
   "metadata": {},
   "outputs": [],
   "source": [
    "%matplotlib inline"
   ]
  },
  {
   "cell_type": "markdown",
   "metadata": {},
   "source": [
    "\n",
    "A Gentle Introduction to ``torch.autograd``\n",
    "---------------------------------\n",
    "\n",
    "``torch.autograd`` is PyTorch’s automatic differentiation engine that powers\n",
    "neural network training. In this section, you will get a conceptual\n",
    "understanding of how autograd helps a neural network train.\n",
    "\n",
    "Background\n",
    "~~~~~~~~~~\n",
    "Neural networks (NNs) are a collection of nested functions that are\n",
    "executed on some input data. These functions are defined by *parameters*\n",
    "(consisting of weights and biases), which in PyTorch are stored in\n",
    "tensors.\n",
    "\n",
    "Training a NN happens in two steps:\n",
    "\n",
    "**Forward Propagation**: In forward prop, the NN makes its best guess\n",
    "about the correct output. It runs the input data through each of its\n",
    "functions to make this guess.\n",
    "\n",
    "**Backward Propagation**: In backprop, the NN adjusts its parameters\n",
    "proportionate to the error in its guess. It does this by traversing\n",
    "backwards from the output, collecting the derivatives of the error with\n",
    "respect to the parameters of the functions (*gradients*), and optimizing\n",
    "the parameters using gradient descent. For a more detailed walkthrough\n",
    "of backprop, check out this `video from\n",
    "3Blue1Brown <https://www.youtube.com/watch?v=tIeHLnjs5U8>`__.\n",
    "\n",
    "\n",
    "\n",
    "\n",
    "Usage in PyTorch\n",
    "~~~~~~~~~~~~~~~~\n",
    "Let's take a look at a single training step.\n",
    "For this example, we load a pretrained resnet18 model from ``torchvision``.\n",
    "We create a random data tensor to represent a single image with 3 channels, and height & width of 64,\n",
    "and its corresponding ``label`` initialized to some random values. Label in pretrained models has\n",
    "shape (1,1000).\n",
    "\n",
    "<div class=\"alert alert-info\"><h4>Note</h4><p>This tutorial work only on CPU and will not work on GPU (even if tensor are moved to CUDA).</p></div>\n"
   ]
  },
  {
   "cell_type": "code",
   "execution_count": 3,
   "metadata": {},
   "outputs": [
    {
     "name": "stderr",
     "output_type": "stream",
     "text": [
      "Downloading: \"https://download.pytorch.org/models/resnet18-f37072fd.pth\" to /home/sbaveja/.cache/torch/hub/checkpoints/resnet18-f37072fd.pth\n"
     ]
    },
    {
     "data": {
      "application/vnd.jupyter.widget-view+json": {
       "model_id": "2b97be4f5d864b48a01a6378410e4913",
       "version_major": 2,
       "version_minor": 0
      },
      "text/plain": [
       "  0%|          | 0.00/44.7M [00:00<?, ?B/s]"
      ]
     },
     "metadata": {},
     "output_type": "display_data"
    }
   ],
   "source": [
    "import torch, torchvision\n",
    "model = torchvision.models.resnet18(pretrained=True)\n",
    "data = torch.rand(1, 3, 64, 64)\n",
    "labels = torch.rand(1, 1000)"
   ]
  },
  {
   "cell_type": "markdown",
   "metadata": {},
   "source": [
    "Next, we run the input data through the model through each of its layers to make a prediction.\n",
    "This is the **forward pass**.\n",
    "\n",
    "\n"
   ]
  },
  {
   "cell_type": "code",
   "execution_count": 5,
   "metadata": {},
   "outputs": [
    {
     "data": {
      "text/plain": [
       "tensor([[-7.5274e-01, -5.9548e-01, -4.5749e-01, -1.7552e+00, -8.9531e-01,\n",
       "         -2.7990e-01, -7.3728e-01,  6.3784e-01,  4.1760e-01, -8.1423e-01,\n",
       "         -1.2648e+00, -8.8335e-01, -4.8450e-01, -9.3714e-01, -1.4241e+00,\n",
       "         -8.7105e-01, -7.6329e-01, -6.0772e-01, -8.0605e-01, -6.1472e-01,\n",
       "         -1.6308e+00, -4.6612e-01, -1.3879e+00,  3.1654e-01, -9.2798e-01,\n",
       "         -1.1769e+00, -7.9716e-01, -9.8920e-01, -8.1603e-01, -5.3765e-01,\n",
       "         -5.7274e-01, -3.4223e-01, -2.7966e-01, -4.5243e-01,  1.0524e-02,\n",
       "         -2.2085e-01,  5.8378e-01, -6.9657e-01, -4.4468e-01,  8.4148e-02,\n",
       "         -6.6432e-01, -7.7597e-01, -1.1447e+00, -4.5224e-01, -5.6807e-01,\n",
       "         -2.3697e-01, -7.5874e-01, -1.2427e-01, -8.1429e-01, -1.3282e+00,\n",
       "         -6.0284e-01,  7.9720e-01, -1.5987e-01, -5.5539e-01, -1.9983e-01,\n",
       "         -1.0859e+00, -3.0403e-01, -1.2850e+00, -6.5315e-01, -2.5759e-01,\n",
       "          9.7457e-01,  2.6382e-01,  7.8312e-02,  2.4269e-01, -5.8375e-01,\n",
       "         -3.5222e-01, -1.1140e-01, -5.1171e-01, -6.4000e-01, -9.3992e-01,\n",
       "         -1.1821e+00,  3.0833e-01, -1.3733e+00, -1.6198e-01, -1.0002e+00,\n",
       "         -1.0810e+00,  1.8557e-01, -1.6791e-01,  3.3296e-01, -1.7743e-01,\n",
       "         -6.1645e-01, -1.2052e+00,  8.1137e-02, -6.0043e-01, -8.7207e-01,\n",
       "          6.7605e-02,  1.7852e-01,  3.4476e-01, -4.3324e-01, -6.7420e-01,\n",
       "         -1.4123e+00, -9.2740e-01, -2.3197e+00, -6.4777e-01,  9.4471e-02,\n",
       "         -2.4029e+00, -8.2841e-01, -6.7644e-01, -1.5667e+00, -2.4457e-01,\n",
       "         -1.3756e+00, -9.2226e-01, -7.5343e-01, -3.0416e-01, -5.6411e-02,\n",
       "         -9.1314e-01, -5.7752e-01, -1.4182e+00, -1.1597e+00, -1.4200e+00,\n",
       "         -8.8077e-01, -4.7264e-01,  1.1510e+00,  3.2183e-01,  3.3968e-01,\n",
       "         -1.0050e+00, -6.6495e-01, -2.7864e-01,  4.7791e-01, -5.3515e-02,\n",
       "         -7.1652e-01, -1.6351e-02,  9.0054e-02,  1.1937e-01,  6.3830e-01,\n",
       "         -3.1868e-02,  3.8191e-01, -1.5767e+00, -1.2404e+00, -1.4548e+00,\n",
       "         -1.6069e+00, -1.8176e+00, -1.4197e+00, -1.3390e+00, -7.6104e-01,\n",
       "         -1.4753e+00, -9.8004e-01, -1.1373e+00, -1.0755e+00, -1.5853e+00,\n",
       "         -1.7189e+00, -1.9555e+00, -2.5150e+00, -1.5912e+00, -5.2356e-01,\n",
       "         -4.0237e-01, -9.4696e-01, -1.8091e+00, -1.2601e+00, -1.1738e+00,\n",
       "          2.1470e-02,  1.6557e+00, -9.7741e-01, -3.6350e-01, -5.1768e-02,\n",
       "          3.0849e-01, -2.7863e-01, -1.9558e-01,  2.6181e-01,  2.4308e-01,\n",
       "          4.3520e-01,  6.6822e-01,  2.4530e-01,  6.3231e-01,  2.5563e-01,\n",
       "         -3.1330e-01, -5.3325e-02, -2.6618e-01,  2.5002e-01, -7.4004e-02,\n",
       "         -9.5745e-02,  7.7451e-01,  6.0842e-01,  5.4905e-01, -6.0018e-02,\n",
       "         -8.5052e-01,  1.7994e-01, -2.0022e-01,  5.8975e-01,  6.9667e-01,\n",
       "          6.6727e-01, -1.2304e-01,  3.9592e-01, -8.6038e-02,  3.6362e-01,\n",
       "          4.9138e-01,  2.5795e-01, -8.8968e-02, -2.5041e-02,  2.0451e-01,\n",
       "         -6.6189e-01,  8.1201e-03,  2.1572e-01,  6.0399e-02, -8.8391e-01,\n",
       "          8.7990e-01, -1.1289e-01,  9.5346e-02,  9.6837e-02,  3.7882e-01,\n",
       "         -3.0493e-01, -2.3568e-01,  5.6812e-01,  4.4338e-01,  1.0934e-01,\n",
       "          3.2119e-01,  1.8029e-01,  6.1954e-01,  1.4245e+00,  5.7685e-01,\n",
       "         -2.0315e-02,  2.5502e-01,  2.7130e-01, -3.0638e-01, -2.3028e-01,\n",
       "          4.3652e-01,  1.9610e-01,  3.1091e-01, -2.2355e-01,  6.5735e-01,\n",
       "          1.0194e-01, -2.1575e-01,  2.4948e-01,  6.1961e-01,  3.0934e-01,\n",
       "          3.8642e-01, -2.5866e-01,  5.9943e-01, -4.2313e-01, -2.2526e-01,\n",
       "         -2.5760e-01,  3.4795e-01,  5.8094e-01, -2.4787e-01,  5.7226e-01,\n",
       "          7.6949e-01,  3.6537e-01,  2.7819e-01,  8.2562e-01, -1.6833e-01,\n",
       "          4.1119e-01, -1.1234e-01,  6.2790e-01,  3.8368e-01, -3.9017e-01,\n",
       "          3.4607e-01,  5.0430e-01,  3.9446e-01,  6.8316e-01,  3.1390e-01,\n",
       "          5.9144e-01,  8.3433e-01, -1.0673e+00,  5.3718e-01,  9.8587e-01,\n",
       "         -3.8852e-01,  5.2077e-01,  6.6191e-01, -5.7973e-02, -1.5330e-01,\n",
       "         -6.0556e-01, -1.0652e+00, -4.6358e-01,  1.8830e-01,  4.9780e-01,\n",
       "          6.9840e-01,  2.0928e-01,  4.7575e-01, -2.0397e-01, -3.2243e-01,\n",
       "         -8.4022e-01, -1.1812e+00, -7.6480e-01,  6.4537e-01, -1.1066e+00,\n",
       "         -9.6135e-01, -1.3214e+00, -9.1406e-01, -1.3839e+00, -5.9536e-01,\n",
       "         -5.8015e-01,  7.7801e-01,  7.2112e-01, -9.3842e-02,  2.3821e-01,\n",
       "          9.3457e-01, -2.2225e-02, -3.7177e-01, -7.4237e-01, -1.6036e+00,\n",
       "         -1.0784e+00, -1.1935e+00, -3.5495e-01, -9.7176e-01, -1.1210e+00,\n",
       "         -8.9572e-01, -9.0186e-01, -1.3781e+00, -4.1512e-01, -2.4724e-01,\n",
       "         -1.6525e+00, -4.2773e-01, -2.6485e-01, -1.1838e-01, -8.9479e-01,\n",
       "         -7.6845e-01,  7.4657e-02, -5.5912e-01, -1.1199e+00, -6.0654e-01,\n",
       "          7.6330e-01, -1.4507e-01, -1.8304e-01,  5.3919e-01,  5.6462e-01,\n",
       "         -2.5303e-01, -6.1898e-01, -1.0044e+00, -8.6539e-01, -5.3264e-01,\n",
       "         -1.2583e+00, -1.1486e+00, -1.2532e+00, -1.3114e+00, -1.3268e+00,\n",
       "         -1.4915e+00, -9.8683e-01, -2.3389e-03,  5.9357e-02, -5.3418e-01,\n",
       "         -9.9952e-02, -1.2974e-01, -2.1902e-01,  6.7102e-03, -5.0852e-01,\n",
       "         -9.4468e-01, -1.6381e+00,  1.3639e-01,  5.4872e-01, -1.1808e+00,\n",
       "         -4.1621e-01,  7.9193e-01, -3.9604e-01, -1.2521e+00, -8.9433e-01,\n",
       "          5.0420e-01, -9.7744e-01, -1.5464e+00,  9.4885e-02, -1.3811e+00,\n",
       "         -9.7484e-01, -2.3430e+00, -1.4362e+00, -7.7626e-01, -6.0995e-01,\n",
       "          4.5808e-01,  1.3423e+00,  2.7279e-01,  8.2494e-01,  5.9243e-01,\n",
       "          5.7354e-02,  4.5690e-01,  2.0508e-01,  7.6898e-02, -5.1154e-01,\n",
       "         -7.4477e-01, -9.6079e-01, -1.4196e-01, -9.9893e-01, -5.9089e-01,\n",
       "         -5.9929e-01, -1.8642e-01, -3.8629e-01,  8.0775e-03, -4.1835e-01,\n",
       "         -1.1458e+00, -1.1353e+00,  2.0148e-01, -3.3501e-01, -4.1602e-01,\n",
       "          2.2354e-01, -3.4927e-01, -3.6127e-01, -6.1392e-01, -9.4008e-01,\n",
       "         -3.9629e-01, -1.1619e+00, -1.1142e+00, -9.4998e-01, -3.3214e-01,\n",
       "          6.3763e-01, -1.2723e-01, -1.1229e+00, -1.7696e+00, -4.7097e-01,\n",
       "          3.7609e-01, -9.6652e-01, -6.7677e-01,  1.9355e-01, -1.6244e-01,\n",
       "         -1.1905e+00,  5.8641e-01,  1.9742e-01, -1.9556e+00, -1.8421e+00,\n",
       "         -3.7502e-01, -3.7226e-01, -2.1887e-01, -3.9519e-01,  1.0003e+00,\n",
       "         -4.5960e-01,  1.0299e-01,  1.9368e+00,  4.7427e-01,  3.4569e-01,\n",
       "          9.8571e-01,  1.2054e-01,  6.4361e-01,  3.2986e-01,  1.2496e+00,\n",
       "          8.2148e-01,  1.5845e+00, -5.1059e-01,  1.2621e-01, -8.0645e-03,\n",
       "         -7.7265e-01,  1.8768e-01,  1.3053e+00,  1.7133e+00,  5.8775e-01,\n",
       "         -3.6491e-01,  6.9213e-02,  1.4958e-01,  5.7776e-01,  7.5799e-01,\n",
       "          9.1049e-01, -1.2036e-01, -2.0208e-01,  3.1184e-01,  4.8155e-01,\n",
       "          9.7800e-01,  4.5007e-01, -7.2098e-02, -5.2499e-01, -1.1907e-01,\n",
       "          2.2743e-01,  3.4803e-01,  1.4803e+00,  9.4671e-01, -6.7986e-01,\n",
       "         -1.8168e-01,  5.3063e-01,  7.5683e-01,  6.2443e-02, -3.5170e-01,\n",
       "          8.1432e-01,  1.6168e+00,  1.3196e+00, -9.2383e-02,  1.3357e+00,\n",
       "         -8.2384e-01,  6.4233e-01,  1.2159e+00,  2.5923e+00,  1.0476e+00,\n",
       "         -1.6582e-01, -1.4135e+00, -1.4237e-01, -2.1998e-03,  1.6679e+00,\n",
       "          1.0897e+00,  4.7180e-01,  1.0575e-01,  8.5905e-01, -1.5977e-01,\n",
       "          2.6168e-01, -1.0546e-01,  3.7106e-01,  7.5687e-01,  4.7031e-01,\n",
       "         -1.5939e-01,  2.9221e-01,  5.4579e-01, -8.7955e-01, -1.4573e+00,\n",
       "         -2.5438e-02, -4.3121e-01,  1.0901e+00,  1.5596e+00,  1.4380e+00,\n",
       "          4.7875e-01,  1.1122e+00,  8.7619e-01, -1.1688e+00,  1.2222e+00,\n",
       "         -1.1352e+00,  1.3884e-01, -3.1736e-01, -2.3045e-01,  1.3044e+00,\n",
       "         -1.5101e+00,  4.0504e-01,  9.9289e-01,  3.8774e-01,  8.1797e-01,\n",
       "          9.2911e-01,  1.2813e+00,  3.8914e-01,  2.1249e-01,  3.2354e-01,\n",
       "         -1.0911e+00, -1.0034e+00,  8.3009e-01,  2.8789e-01,  1.0064e+00,\n",
       "          1.7546e+00,  4.5843e-01,  1.0819e-01,  1.3182e+00,  8.1690e-01,\n",
       "         -5.7630e-01,  2.1431e-01,  1.0209e+00,  1.6485e+00,  1.4043e-01,\n",
       "         -7.4033e-01, -4.4884e-01, -5.7771e-01, -2.5776e-01,  3.1687e-01,\n",
       "          1.0757e+00,  4.6892e-01, -2.0670e-01, -7.8547e-01,  3.4046e-01,\n",
       "         -4.3639e-01, -4.8265e-01, -4.5811e-01,  1.8642e-01,  1.4485e+00,\n",
       "         -1.0301e+00,  1.7835e+00,  1.3786e+00,  6.0067e-01,  3.0093e-01,\n",
       "          1.1316e+00,  5.7724e-01, -1.9909e+00, -1.1335e+00,  2.2594e-01,\n",
       "         -7.2466e-01,  3.8632e-01,  4.3890e-01, -4.4576e-01, -1.3424e+00,\n",
       "         -6.6085e-01,  5.1634e-01,  5.3617e-01,  9.7755e-01,  1.0553e+00,\n",
       "          3.8979e-01, -3.6239e-01,  1.1490e+00, -1.3946e-02, -1.2332e+00,\n",
       "         -7.8229e-01, -5.9496e-02,  1.1495e+00,  3.9132e-01, -4.0929e-01,\n",
       "          1.0138e+00, -2.4229e-01,  8.6588e-01, -1.1779e+00,  3.7399e-01,\n",
       "         -4.0365e-01, -1.1912e+00,  1.0716e+00,  1.7753e-01,  1.7109e-01,\n",
       "          2.9825e-01, -5.8724e-02,  8.5483e-01,  5.4455e-01,  8.4959e-01,\n",
       "          7.4097e-01, -5.2676e-01,  1.8133e+00,  1.2388e+00,  1.1682e+00,\n",
       "         -5.8229e-01,  6.6199e-01, -6.1828e-01,  1.0279e+00, -7.9298e-02,\n",
       "         -5.7929e-01,  1.1787e+00, -1.1077e-01, -4.8823e-01,  1.0045e+00,\n",
       "          2.1347e+00, -1.5021e-01,  2.3202e-01, -4.7601e-01,  6.4199e-01,\n",
       "         -1.7325e-01,  1.1347e+00, -6.7597e-01,  7.8612e-01, -2.4654e-02,\n",
       "          9.1400e-01,  7.4316e-01, -7.1117e-01,  7.8801e-01,  1.3884e-01,\n",
       "          7.8471e-01,  1.2488e+00,  1.3227e-01,  1.8321e+00,  1.1015e+00,\n",
       "          1.1816e+00,  8.9018e-01,  5.0300e-01,  7.1200e-01, -2.0396e-01,\n",
       "         -1.0173e+00,  1.0383e+00, -3.8957e-01, -1.0101e+00,  2.4544e-01,\n",
       "         -2.2877e-01,  8.4366e-01,  7.2044e-01,  1.1357e+00, -1.6463e-01,\n",
       "          1.5233e-01,  1.4928e+00,  9.4477e-01,  7.8427e-01,  2.3318e-01,\n",
       "         -1.6398e+00,  1.2197e+00, -1.4753e-01,  1.5386e+00,  1.2740e+00,\n",
       "         -8.0686e-01,  7.4239e-01,  4.6270e-01, -6.5743e-01, -1.4636e+00,\n",
       "          1.3316e+00,  1.6062e-01,  6.2967e-01,  7.7396e-01, -3.2554e-02,\n",
       "          6.6950e-01,  1.0949e-01,  4.0388e-02,  1.0532e-01,  4.5134e-01,\n",
       "          5.2651e-02, -1.0575e+00,  1.3111e-02, -8.9496e-01,  1.0479e+00,\n",
       "         -6.4393e-02,  1.1893e+00, -5.4495e-02, -9.4137e-01, -5.5832e-01,\n",
       "         -6.7053e-02, -2.2438e-01, -1.2738e-01,  3.7241e-01,  1.3073e+00,\n",
       "         -4.7598e-01,  1.5601e+00,  9.7438e-01,  1.0782e+00,  1.8082e-03,\n",
       "          4.5457e-01,  5.7904e-01, -6.1427e-01,  1.3118e-01,  9.3371e-01,\n",
       "         -1.4378e+00,  7.0658e-02, -1.4437e+00, -1.9894e-01, -9.9466e-01,\n",
       "         -9.0966e-01,  6.8345e-01,  8.6061e-01,  6.8169e-01, -9.4404e-01,\n",
       "          8.6447e-01,  1.6190e+00,  1.0407e-02, -5.6305e-01,  8.1256e-01,\n",
       "          1.8648e+00, -1.6441e-01,  2.9005e-01,  7.4687e-01,  6.7175e-01,\n",
       "         -1.7243e-01, -4.1472e-01, -2.2881e-01,  8.9424e-01,  4.8596e-01,\n",
       "          6.2747e-01,  1.1843e+00, -7.0832e-02, -6.6134e-01,  5.3987e-01,\n",
       "         -3.2125e-01,  7.7668e-01, -6.5770e-01, -4.1051e-01,  6.6763e-01,\n",
       "         -8.8035e-02,  2.0721e-01,  1.4167e+00,  3.0516e-01, -5.4967e-01,\n",
       "          1.1661e+00, -7.5900e-01, -3.5433e-02,  1.5013e+00, -6.1906e-01,\n",
       "          2.2055e-01,  2.1197e+00, -4.7104e-01,  2.0348e+00, -1.3519e+00,\n",
       "          9.8333e-02, -7.4613e-02,  7.2204e-01,  1.0464e+00,  3.0702e-01,\n",
       "          1.2764e+00, -6.7352e-02,  1.9010e-01,  1.1115e-01,  6.6709e-01,\n",
       "         -5.3447e-02,  5.7555e-02,  9.2506e-01,  9.3785e-01,  1.5394e+00,\n",
       "          7.0975e-01, -5.2741e-02,  4.6726e-01,  9.5563e-01,  1.0120e+00,\n",
       "         -4.0784e-01,  1.0974e+00,  8.4018e-02,  1.5262e+00, -1.0164e-01,\n",
       "          3.1087e-02,  5.5599e-01,  4.0324e-01,  1.0500e+00,  1.2517e+00,\n",
       "          1.1764e+00,  3.9919e-01,  4.9944e-01,  1.1902e-01,  1.1497e+00,\n",
       "          6.0258e-01,  3.8995e-01,  1.2283e+00,  4.4416e-01,  8.5920e-01,\n",
       "          3.1205e-01,  1.8884e-01,  5.9100e-01,  1.5039e+00, -4.6850e-01,\n",
       "         -9.5127e-01, -5.3992e-01,  1.0619e+00,  3.6488e-01,  1.7659e+00,\n",
       "          4.3875e-01,  4.5150e-01,  1.0647e+00, -6.5367e-02,  9.6914e-02,\n",
       "          9.4917e-01,  1.1895e+00,  1.5534e+00,  9.0206e-01, -2.9831e-01,\n",
       "          1.5445e-01,  1.0996e+00,  7.4562e-01, -5.8351e-01,  3.6213e-01,\n",
       "         -1.1279e+00, -5.0027e-03, -1.3054e+00, -9.8890e-01,  9.5947e-01,\n",
       "          1.4908e+00,  2.5430e-01,  6.8481e-01,  1.4610e+00,  5.9736e-03,\n",
       "         -6.7771e-01,  1.2221e+00, -1.3636e-01,  1.6975e+00, -1.1915e+00,\n",
       "          7.6747e-02, -1.4475e-01, -1.0255e+00,  1.7561e+00,  4.5495e-01,\n",
       "         -1.4297e+00, -8.3905e-01,  3.1209e-01,  7.3364e-01,  8.1451e-01,\n",
       "         -9.4837e-01,  6.9382e-01,  7.0788e-01,  1.5960e+00, -7.3091e-01,\n",
       "          1.4425e+00,  3.3088e-01, -8.2458e-01, -1.1098e+00, -5.3214e-02,\n",
       "          6.8507e-01,  1.8253e+00,  1.7015e+00,  1.0517e+00, -8.1475e-01,\n",
       "          1.3804e+00,  6.1653e-01,  4.8720e-01,  7.9024e-01,  5.8930e-01,\n",
       "          1.4577e+00,  7.6980e-01, -5.6931e-01,  6.8786e-01,  8.3435e-01,\n",
       "          1.3308e+00,  1.5971e+00,  2.0950e+00, -4.6370e-01, -3.7430e-01,\n",
       "          6.1466e-01, -3.3637e-01, -5.8097e-02,  7.7491e-03,  9.9868e-01,\n",
       "          1.0988e-01,  1.0397e+00,  8.0635e-01, -1.7499e-01, -3.3669e-01,\n",
       "          7.9188e-01,  9.2637e-02, -9.7549e-02,  1.6277e+00, -5.1577e-01,\n",
       "          9.8407e-01, -1.5646e+00,  1.4253e+00, -1.2783e+00, -2.5016e+00,\n",
       "          3.1947e-01,  1.5335e+00, -6.9386e-01, -3.8071e-01,  1.6394e+00,\n",
       "          1.0358e+00, -1.8188e-01,  9.3817e-01,  1.1667e+00,  1.4604e-01,\n",
       "          3.7355e-01, -7.1824e-01, -6.1155e-01, -1.1405e+00,  3.7514e-01,\n",
       "         -3.2980e-01, -9.9703e-02,  8.0127e-01,  4.8378e-01, -6.6907e-01,\n",
       "         -5.9915e-01,  9.2320e-01,  1.6653e-01,  2.0014e+00,  2.0002e+00,\n",
       "         -8.7038e-01, -4.3594e-01,  1.6726e+00,  5.9004e-01,  1.0492e+00,\n",
       "          4.1373e-03, -3.2724e-01,  1.5465e+00, -8.1205e-01,  9.1731e-01,\n",
       "          1.4706e+00,  1.0857e+00,  1.1255e+00, -5.2066e-01, -1.8518e+00,\n",
       "         -5.1554e-01,  2.5009e-01,  4.5262e-01,  3.3803e-01,  3.7754e-01,\n",
       "         -1.1027e-01,  1.3408e+00, -9.0024e-01,  3.3838e-01, -3.6263e-01,\n",
       "         -1.2794e+00, -1.1548e+00, -5.4135e-01,  4.9492e-02,  1.4970e+00,\n",
       "         -3.8987e-01, -8.7306e-02,  1.5964e-01, -1.7752e+00, -1.2251e-01,\n",
       "         -6.4574e-01,  4.4099e-01,  2.0269e-01,  1.4857e-01,  1.3724e-01,\n",
       "         -2.0404e-01, -7.2016e-01, -3.9963e-01,  9.4029e-02, -2.1529e-01,\n",
       "         -5.9671e-01, -1.1383e+00,  4.4887e-01,  5.3947e-01, -3.6785e-01,\n",
       "         -1.4985e-01, -5.6402e-01, -2.3741e-01, -8.9726e-02,  7.4496e-01,\n",
       "         -5.6943e-01, -2.0242e-01, -9.7357e-01,  4.0722e-02, -1.0014e+00,\n",
       "          2.1879e-01,  2.3657e-01, -5.4047e-01, -1.0153e+00, -1.4967e+00,\n",
       "         -2.5914e-01,  6.2899e-01, -7.2135e-01,  8.1802e-01,  1.1065e-01,\n",
       "          8.4656e-02,  9.0724e-01, -2.6663e-01, -2.8645e-01, -1.9051e+00,\n",
       "          1.0452e+00, -1.6158e+00,  4.0729e-01,  1.2901e-01, -5.5288e-01,\n",
       "         -6.6823e-01,  4.2021e-01,  5.6406e-01, -4.0673e-01, -6.8254e-01,\n",
       "         -1.2849e+00, -2.2073e+00,  1.0972e+00, -1.4075e-01, -6.5607e-01,\n",
       "         -4.0181e-01, -1.0652e+00, -9.4369e-01, -1.8398e+00, -5.9375e-01,\n",
       "         -2.4585e-01,  2.1259e-01, -5.4199e-01,  1.3112e+00,  8.2567e-01]],\n",
       "       grad_fn=<AddmmBackward0>)"
      ]
     },
     "execution_count": 5,
     "metadata": {},
     "output_type": "execute_result"
    }
   ],
   "source": [
    "prediction = model(data) # forward pass\n",
    "prediction"
   ]
  },
  {
   "cell_type": "markdown",
   "metadata": {},
   "source": [
    "We use the model's prediction and the corresponding label to calculate the error (``loss``).\n",
    "The next step is to backpropagate this error through the network.\n",
    "Backward propagation is kicked off when we call ``.backward()`` on the error tensor.\n",
    "Autograd then calculates and stores the gradients for each model parameter in the parameter's ``.grad`` attribute.\n",
    "\n",
    "\n"
   ]
  },
  {
   "cell_type": "code",
   "execution_count": 6,
   "metadata": {},
   "outputs": [],
   "source": [
    "loss = (prediction - labels).sum()\n",
    "loss.backward() # backward pass"
   ]
  },
  {
   "cell_type": "markdown",
   "metadata": {},
   "source": [
    "Next, we load an optimizer, in this case SGD with a learning rate of 0.01 and `momentum <https://towardsdatascience.com/stochastic-gradient-descent-with-momentum-a84097641a5d>`__ of 0.9.\n",
    "We register all the parameters of the model in the optimizer.\n",
    "\n",
    "\n"
   ]
  },
  {
   "cell_type": "code",
   "execution_count": 7,
   "metadata": {},
   "outputs": [],
   "source": [
    "optim = torch.optim.SGD(model.parameters(), lr=1e-2, momentum=0.9)"
   ]
  },
  {
   "cell_type": "markdown",
   "metadata": {},
   "source": [
    "Finally, we call ``.step()`` to initiate gradient descent. The optimizer adjusts each parameter by its gradient stored in ``.grad``.\n",
    "\n",
    "\n"
   ]
  },
  {
   "cell_type": "code",
   "execution_count": 8,
   "metadata": {},
   "outputs": [],
   "source": [
    "optim.step() #gradient descent"
   ]
  },
  {
   "cell_type": "markdown",
   "metadata": {},
   "source": [
    "At this point, you have everything you need to train your neural network.\n",
    "The below sections detail the workings of autograd - feel free to skip them.\n",
    "\n",
    "\n"
   ]
  },
  {
   "cell_type": "markdown",
   "metadata": {},
   "source": [
    "--------------\n",
    "\n",
    "\n"
   ]
  },
  {
   "cell_type": "markdown",
   "metadata": {},
   "source": [
    "Differentiation in Autograd\n",
    "~~~~~~~~~~~~~~~~~~~~~~~~~~~\n",
    "Let's take a look at how ``autograd`` collects gradients. We create two tensors ``a`` and ``b`` with\n",
    "``requires_grad=True``. This signals to ``autograd`` that every operation on them should be tracked.\n",
    "\n",
    "\n"
   ]
  },
  {
   "cell_type": "code",
   "execution_count": 9,
   "metadata": {},
   "outputs": [],
   "source": [
    "import torch\n",
    "\n",
    "a = torch.tensor([2., 3.], requires_grad=True)\n",
    "b = torch.tensor([6., 4.], requires_grad=True)"
   ]
  },
  {
   "cell_type": "markdown",
   "metadata": {},
   "source": [
    "We create another tensor ``Q`` from ``a`` and ``b``.\n",
    "\n",
    "\\begin{align}Q = 3a^3 - b^2\\end{align}\n",
    "\n"
   ]
  },
  {
   "cell_type": "code",
   "execution_count": 10,
   "metadata": {},
   "outputs": [],
   "source": [
    "Q = 3*a**3 - b**2"
   ]
  },
  {
   "cell_type": "markdown",
   "metadata": {},
   "source": [
    "Let's assume ``a`` and ``b`` to be parameters of an NN, and ``Q``\n",
    "to be the error. In NN training, we want gradients of the error\n",
    "w.r.t. parameters, i.e.\n",
    "\n",
    "\\begin{align}\\frac{\\partial Q}{\\partial a} = 9a^2\\end{align}\n",
    "\n",
    "\\begin{align}\\frac{\\partial Q}{\\partial b} = -2b\\end{align}\n",
    "\n",
    "\n",
    "When we call ``.backward()`` on ``Q``, autograd calculates these gradients\n",
    "and stores them in the respective tensors' ``.grad`` attribute.\n",
    "\n",
    "We need to explicitly pass a ``gradient`` argument in ``Q.backward()`` because it is a vector.\n",
    "``gradient`` is a tensor of the same shape as ``Q``, and it represents the\n",
    "gradient of Q w.r.t. itself, i.e.\n",
    "\n",
    "\\begin{align}\\frac{dQ}{dQ} = 1\\end{align}\n",
    "\n",
    "Equivalently, we can also aggregate Q into a scalar and call backward implicitly, like ``Q.sum().backward()``.\n",
    "\n",
    "\n"
   ]
  },
  {
   "cell_type": "code",
   "execution_count": 11,
   "metadata": {},
   "outputs": [],
   "source": [
    "external_grad = torch.tensor([1., 1.])\n",
    "Q.backward(gradient=external_grad)"
   ]
  },
  {
   "cell_type": "markdown",
   "metadata": {},
   "source": [
    "Gradients are now deposited in ``a.grad`` and ``b.grad``\n",
    "\n"
   ]
  },
  {
   "cell_type": "code",
   "execution_count": 12,
   "metadata": {},
   "outputs": [
    {
     "name": "stdout",
     "output_type": "stream",
     "text": [
      "tensor([True, True])\n",
      "tensor([True, True])\n"
     ]
    }
   ],
   "source": [
    "# check if collected gradients are correct\n",
    "print(9*a**2 == a.grad)\n",
    "print(-2*b == b.grad)"
   ]
  },
  {
   "cell_type": "markdown",
   "metadata": {},
   "source": [
    "Optional Reading - Vector Calculus using ``autograd``\n",
    "^^^^^^^^^^^^^^^^^^^^^^^^^^^^^^^^^^^^^^^^^^^^^^\n",
    "\n",
    "Mathematically, if you have a vector valued function\n",
    "$\\vec{y}=f(\\vec{x})$, then the gradient of $\\vec{y}$ with\n",
    "respect to $\\vec{x}$ is a Jacobian matrix $J$:\n",
    "\n",
    "\\begin{align}J\n",
    "     =\n",
    "      \\left(\\begin{array}{cc}\n",
    "      \\frac{\\partial \\bf{y}}{\\partial x_{1}} &\n",
    "      ... &\n",
    "      \\frac{\\partial \\bf{y}}{\\partial x_{n}}\n",
    "      \\end{array}\\right)\n",
    "     =\n",
    "     \\left(\\begin{array}{ccc}\n",
    "      \\frac{\\partial y_{1}}{\\partial x_{1}} & \\cdots & \\frac{\\partial y_{1}}{\\partial x_{n}}\\\\\n",
    "      \\vdots & \\ddots & \\vdots\\\\\n",
    "      \\frac{\\partial y_{m}}{\\partial x_{1}} & \\cdots & \\frac{\\partial y_{m}}{\\partial x_{n}}\n",
    "      \\end{array}\\right)\\end{align}\n",
    "\n",
    "Generally speaking, ``torch.autograd`` is an engine for computing\n",
    "vector-Jacobian product. That is, given any vector $\\vec{v}$, compute the product\n",
    "$J^{T}\\cdot \\vec{v}$\n",
    "\n",
    "If $\\vec{v}$ happens to be the gradient of a scalar function $l=g\\left(\\vec{y}\\right)$:\n",
    "\n",
    "\\begin{align}\\vec{v}\n",
    "   =\n",
    "   \\left(\\begin{array}{ccc}\\frac{\\partial l}{\\partial y_{1}} & \\cdots & \\frac{\\partial l}{\\partial y_{m}}\\end{array}\\right)^{T}\\end{align}\n",
    "\n",
    "then by the chain rule, the vector-Jacobian product would be the\n",
    "gradient of $l$ with respect to $\\vec{x}$:\n",
    "\n",
    "\\begin{align}J^{T}\\cdot \\vec{v}=\\left(\\begin{array}{ccc}\n",
    "      \\frac{\\partial y_{1}}{\\partial x_{1}} & \\cdots & \\frac{\\partial y_{m}}{\\partial x_{1}}\\\\\n",
    "      \\vdots & \\ddots & \\vdots\\\\\n",
    "      \\frac{\\partial y_{1}}{\\partial x_{n}} & \\cdots & \\frac{\\partial y_{m}}{\\partial x_{n}}\n",
    "      \\end{array}\\right)\\left(\\begin{array}{c}\n",
    "      \\frac{\\partial l}{\\partial y_{1}}\\\\\n",
    "      \\vdots\\\\\n",
    "      \\frac{\\partial l}{\\partial y_{m}}\n",
    "      \\end{array}\\right)=\\left(\\begin{array}{c}\n",
    "      \\frac{\\partial l}{\\partial x_{1}}\\\\\n",
    "      \\vdots\\\\\n",
    "      \\frac{\\partial l}{\\partial x_{n}}\n",
    "      \\end{array}\\right)\\end{align}\n",
    "\n",
    "This characteristic of vector-Jacobian product is what we use in the above example;\n",
    "``external_grad`` represents $\\vec{v}$.\n",
    "\n",
    "\n"
   ]
  },
  {
   "cell_type": "markdown",
   "metadata": {},
   "source": [
    "Computational Graph\n",
    "~~~~~~~~~~~~~~~~~~~\n",
    "\n",
    "Conceptually, autograd keeps a record of data (tensors) & all executed\n",
    "operations (along with the resulting new tensors) in a directed acyclic\n",
    "graph (DAG) consisting of\n",
    "`Function <https://pytorch.org/docs/stable/autograd.html#torch.autograd.Function>`__\n",
    "objects. In this DAG, leaves are the input tensors, roots are the output\n",
    "tensors. By tracing this graph from roots to leaves, you can\n",
    "automatically compute the gradients using the chain rule.\n",
    "\n",
    "In a forward pass, autograd does two things simultaneously:\n",
    "\n",
    "- run the requested operation to compute a resulting tensor, and\n",
    "- maintain the operation’s *gradient function* in the DAG.\n",
    "\n",
    "The backward pass kicks off when ``.backward()`` is called on the DAG\n",
    "root. ``autograd`` then:\n",
    "\n",
    "- computes the gradients from each ``.grad_fn``,\n",
    "- accumulates them in the respective tensor’s ``.grad`` attribute, and\n",
    "- using the chain rule, propagates all the way to the leaf tensors.\n",
    "\n",
    "Below is a visual representation of the DAG in our example. In the graph,\n",
    "the arrows are in the direction of the forward pass. The nodes represent the backward functions\n",
    "of each operation in the forward pass. The leaf nodes in blue represent our leaf tensors ``a`` and ``b``.\n",
    "\n",
    ".. figure:: /_static/img/dag_autograd.png\n",
    "\n",
    "<div class=\"alert alert-info\"><h4>Note</h4><p>**DAGs are dynamic in PyTorch**\n",
    "  An important thing to note is that the graph is recreated from scratch; after each\n",
    "  ``.backward()`` call, autograd starts populating a new graph. This is\n",
    "  exactly what allows you to use control flow statements in your model;\n",
    "  you can change the shape, size and operations at every iteration if\n",
    "  needed.</p></div>\n",
    "\n",
    "Exclusion from the DAG\n",
    "^^^^^^^^^^^^^^^^^^^^^^\n",
    "\n",
    "``torch.autograd`` tracks operations on all tensors which have their\n",
    "``requires_grad`` flag set to ``True``. For tensors that don’t require\n",
    "gradients, setting this attribute to ``False`` excludes it from the\n",
    "gradient computation DAG.\n",
    "\n",
    "The output tensor of an operation will require gradients even if only a\n",
    "single input tensor has ``requires_grad=True``.\n",
    "\n",
    "\n"
   ]
  },
  {
   "cell_type": "code",
   "execution_count": 13,
   "metadata": {},
   "outputs": [
    {
     "name": "stdout",
     "output_type": "stream",
     "text": [
      "Does `a` require gradients? : False\n",
      "Does `b` require gradients?: True\n"
     ]
    }
   ],
   "source": [
    "x = torch.rand(5, 5)\n",
    "y = torch.rand(5, 5)\n",
    "z = torch.rand((5, 5), requires_grad=True)\n",
    "\n",
    "a = x + y\n",
    "print(f\"Does `a` require gradients? : {a.requires_grad}\")\n",
    "b = x + z\n",
    "print(f\"Does `b` require gradients?: {b.requires_grad}\")"
   ]
  },
  {
   "cell_type": "markdown",
   "metadata": {},
   "source": [
    "In a NN, parameters that don't compute gradients are usually called **frozen parameters**.\n",
    "It is useful to \"freeze\" part of your model if you know in advance that you won't need the gradients of those parameters\n",
    "(this offers some performance benefits by reducing autograd computations).\n",
    "\n",
    "Another common usecase where exclusion from the DAG is important is for\n",
    "`finetuning a pretrained network <https://pytorch.org/tutorials/beginner/finetuning_torchvision_models_tutorial.html>`__\n",
    "\n",
    "In finetuning, we freeze most of the model and typically only modify the classifier layers to make predictions on new labels.\n",
    "Let's walk through a small example to demonstrate this. As before, we load a pretrained resnet18 model, and freeze all the parameters.\n",
    "\n"
   ]
  },
  {
   "cell_type": "code",
   "execution_count": 14,
   "metadata": {},
   "outputs": [],
   "source": [
    "from torch import nn, optim\n",
    "\n",
    "model = torchvision.models.resnet18(pretrained=True)\n",
    "\n",
    "# Freeze all the parameters in the network\n",
    "for param in model.parameters():\n",
    "    param.requires_grad = False"
   ]
  },
  {
   "cell_type": "markdown",
   "metadata": {},
   "source": [
    "Let's say we want to finetune the model on a new dataset with 10 labels.\n",
    "In resnet, the classifier is the last linear layer ``model.fc``.\n",
    "We can simply replace it with a new linear layer (unfrozen by default)\n",
    "that acts as our classifier.\n",
    "\n"
   ]
  },
  {
   "cell_type": "code",
   "execution_count": 15,
   "metadata": {},
   "outputs": [],
   "source": [
    "model.fc = nn.Linear(512, 10)"
   ]
  },
  {
   "cell_type": "markdown",
   "metadata": {},
   "source": [
    "Now all parameters in the model, except the parameters of ``model.fc``, are frozen.\n",
    "The only parameters that compute gradients are the weights and bias of ``model.fc``.\n",
    "\n"
   ]
  },
  {
   "cell_type": "code",
   "execution_count": 16,
   "metadata": {},
   "outputs": [],
   "source": [
    "# Optimize only the classifier\n",
    "optimizer = optim.SGD(model.parameters(), lr=1e-2, momentum=0.9)"
   ]
  },
  {
   "cell_type": "markdown",
   "metadata": {},
   "source": [
    "Notice although we register all the parameters in the optimizer,\n",
    "the only parameters that are computing gradients (and hence updated in gradient descent)\n",
    "are the weights and bias of the classifier.\n",
    "\n",
    "The same exclusionary functionality is available as a context manager in\n",
    "`torch.no_grad() <https://pytorch.org/docs/stable/generated/torch.no_grad.html>`__\n",
    "\n",
    "\n"
   ]
  },
  {
   "cell_type": "markdown",
   "metadata": {},
   "source": [
    "--------------\n",
    "\n",
    "\n"
   ]
  },
  {
   "cell_type": "markdown",
   "metadata": {},
   "source": [
    "Further readings:\n",
    "~~~~~~~~~~~~~~~~~~~\n",
    "\n",
    "-  `In-place operations & Multithreaded Autograd <https://pytorch.org/docs/stable/notes/autograd.html>`__\n",
    "-  `Example implementation of reverse-mode autodiff <https://colab.research.google.com/drive/1VpeE6UvEPRz9HmsHh1KS0XxXjYu533EC>`__\n",
    "\n"
   ]
  }
 ],
 "metadata": {
  "kernelspec": {
   "display_name": "Python 3 (ipykernel)",
   "language": "python",
   "name": "python3"
  },
  "language_info": {
   "codemirror_mode": {
    "name": "ipython",
    "version": 3
   },
   "file_extension": ".py",
   "mimetype": "text/x-python",
   "name": "python",
   "nbconvert_exporter": "python",
   "pygments_lexer": "ipython3",
   "version": "3.9.12"
  }
 },
 "nbformat": 4,
 "nbformat_minor": 1
}
