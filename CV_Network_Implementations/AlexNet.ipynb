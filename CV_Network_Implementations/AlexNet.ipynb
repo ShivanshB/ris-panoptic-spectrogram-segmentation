{
 "cells": [
  {
   "cell_type": "markdown",
   "id": "e06d1499",
   "metadata": {},
   "source": [
    "# AlexNet\n",
    "In this, I will be attempting to reimplement AlexNet using PyTorch."
   ]
  },
  {
   "cell_type": "code",
   "execution_count": 5,
   "id": "39bd3a12",
   "metadata": {},
   "outputs": [
    {
     "name": "stdout",
     "output_type": "stream",
     "text": [
      "cpu\n"
     ]
    }
   ],
   "source": [
    "# importing torch and torchvision methods\n",
    "import torch\n",
    "import torchvision\n",
    "import torch.nn as nn\n",
    "import torch.nn.functional as F\n",
    "\n",
    "# modules for dataset transformation/processing\n",
    "from torch import nn, optim\n",
    "from torchvision.datasets import CIFAR10\n",
    "from torchvision import datasets, transforms\n",
    "from torchvision.transforms import ToTensor\n",
    "from torchvision.utils import make_grid\n",
    "from torch.utils.data.dataloader import DataLoader\n",
    "from torch.utils.data import random_split\n",
    "from torchvision import transforms\n",
    "from torchvision.utils import save_image\n",
    "\n",
    "# importing basic plotting + computation libraries\n",
    "import matplotlib.pyplot as plt\n",
    "import numpy as np\n",
    "import pandas as pd\n",
    "\n",
    "# file management library\n",
    "import os\n",
    "\n",
    "# checking if GPU available for training\n",
    "device = (\"cuda\" if torch.cuda.is_available() else \"cpu\")\n",
    "print(device)"
   ]
  },
  {
   "cell_type": "code",
   "execution_count": 10,
   "id": "4a25cce1",
   "metadata": {},
   "outputs": [],
   "source": [
    "# defining the network structure\n",
    "class Net(nn.Module):\n",
    "    \n",
    "    def __init__(self, num_classes=1000):\n",
    "    \n",
    "        # calling parent constructor        \n",
    "        super().__init__()\n",
    "        \n",
    "        # compsition of convolutional + maxpooling + activation layers\n",
    "        self.extract_features = nn.Sequential(\n",
    "            nn.Conv2D(in_channels=3, out_channels=96, stride=4, kernel_size=11, padding=2),\n",
    "            nn.ReLU(inplace=True),\n",
    "            nn.MaxPool2d(kernel_size=3, stride=2),\n",
    "            nn.Conv2d(in_channels=96, out_channels=256, kernel_size=5, padding=2, stride=1),\n",
    "            nn.ReLU(inplace=True),\n",
    "            nn.MaxPool2d(kernel_size=3, stride=2),\n",
    "            nn.Conv2d(in_channels=256, out_channels=384, kernel_size=3, padding=1, stride=1),\n",
    "            nn.ReLu(inplace=True),\n",
    "            nn.Conv2d(in_channels=384, out_channels=384, kernel_size=3, padding=1, stride=1),\n",
    "            nn.ReLu(inplace=True),\n",
    "            nn.Conv2d(in_channels=384, out_channels=256, kernel_size=3, padding=1, stride=1),\n",
    "            nn.ReLu(inplace=True),\n",
    "            nn.MaxPool2d(kernel_size=3, stride=2)\n",
    "        )\n",
    "        \n",
    "        # composition of \n",
    "        self.avgpool = nn.AdaptiveAvgPool2d((6,6))\n",
    "        \n",
    "        self.MLP = nn.Sequential(\n",
    "            nn.Dropout(0.5),\n",
    "            nn.Linear(in_features=256 * 6 * 6, out_features=4096),\n",
    "            nn.ReLU(inplace=True),\n",
    "            nn.Dropout(0.5),\n",
    "            nn.Linear(in_features=4096, out_features=4096),\n",
    "            nn.ReLU(inplace=True),\n",
    "            nn.Linear(in_features=4096, out_features=1000)\n",
    "        )\n",
    "        \n",
    "        # defining the network in terms of individual layers\n",
    "        \"\"\"\n",
    "        self.cnv1 = nn.Conv2d(in_channels=3, out_channels=96, stride=4, kernel_size=11, padding=0)\n",
    "        self.mp = nn.MaxPool2d(kernel_size=3, stride=2)\n",
    "        self.cnv2 = nn.Conv2d(in_channels=96, out_channels=256,kernel_size=5, padding=2, stride=1)\n",
    "        self.cnv3 = nn.Conv2d(in_channels=256, out_channels=384,kernel_size=3, padding=1, stride=1)\n",
    "        self.cnv4 = nn.Conv2d(in_channels=384, out_channels=384,kernel_size=3, padding=1, stride=1)\n",
    "        self.cnv5 = nn.Conv2d(in_channels=384, out_channels=256,kernel_size=3, padding=1, stride=1)\n",
    "        self.fc1 = nn.Linear(in_features=9216, out_features=4096)\n",
    "        self.fc2 = nn.Linear(in_features=4096, out_features=4096)\n",
    "        self.fc3 = nn.Linear(in_features=4096, out_features=10)\n",
    "        \"\"\"\n",
    "        \n",
    "    def forward(self, x):\n",
    "        \n",
    "        x = self.extract_features(x)\n",
    "        x = self.avgpool(x)\n",
    "        x = torch.flatten(x,1)\n",
    "        x = self.MLP(x)\n",
    "        \n",
    "        return x\n",
    "        \n",
    "        # original definition of the forward propogation with individual layer defs\n",
    "        \"\"\"\n",
    "        x = F.relu(self.conv1(x))\n",
    "        x = self.mp(x)\n",
    "        x = F.relu(self.conv2(x))\n",
    "        x = self.mp(x)\n",
    "        x = self.conv3(x)\n",
    "        x = self.conv4(x)\n",
    "        x = self.conv5(x)\n",
    "        x = self.mp(x)\n",
    "        \n",
    "        x = x.reshape(x.shape[0],-1)\n",
    "        x = self.fc1(x)\n",
    "        x = self.fc2(x)\n",
    "        x = self.fc3(x)\n",
    "        \n",
    "        return x\n",
    "        \"\"\""
   ]
  },
  {
   "cell_type": "code",
   "execution_count": null,
   "id": "e73ed79b",
   "metadata": {},
   "outputs": [],
   "source": [
    "# dataset preparation"
   ]
  }
 ],
 "metadata": {
  "kernelspec": {
   "display_name": "Python 3 (ipykernel)",
   "language": "python",
   "name": "python3"
  },
  "language_info": {
   "codemirror_mode": {
    "name": "ipython",
    "version": 3
   },
   "file_extension": ".py",
   "mimetype": "text/x-python",
   "name": "python",
   "nbconvert_exporter": "python",
   "pygments_lexer": "ipython3",
   "version": "3.9.12"
  }
 },
 "nbformat": 4,
 "nbformat_minor": 5
}
