{
 "cells": [
  {
   "cell_type": "markdown",
   "id": "e06d1499",
   "metadata": {},
   "source": [
    "# AlexNet\n",
    "In this, I will be attempted to reimplement AlexNet using PyTorch."
   ]
  },
  {
   "cell_type": "code",
   "execution_count": 4,
   "id": "39bd3a12",
   "metadata": {},
   "outputs": [],
   "source": [
    "# basic imports\n",
    "import torch\n",
    "import torch.nn as nn\n",
    "import torch.nn.functional as F"
   ]
  },
  {
   "cell_type": "code",
   "execution_count": 7,
   "id": "4a25cce1",
   "metadata": {},
   "outputs": [],
   "source": [
    "# defining the network structure\n",
    "class Net(nn.Module):\n",
    "    def __init__(self):\n",
    "        self.cnv1 = nn.Conv2d(in_channels=3, out_channels=96, stride=4, kernel_size=11, padding=0)\n",
    "        self.mp = nn.MaxPool2d(kernel_size=3, stride=2)\n",
    "        self.cnv2 = nn.Conv2d(in_channels=96, out_channels=256,kernel_size=5, padding=0, stride=4)"
   ]
  },
  {
   "cell_type": "code",
   "execution_count": null,
   "id": "6b79f10b",
   "metadata": {},
   "outputs": [],
   "source": []
  }
 ],
 "metadata": {
  "kernelspec": {
   "display_name": "Python 3 (ipykernel)",
   "language": "python",
   "name": "python3"
  },
  "language_info": {
   "codemirror_mode": {
    "name": "ipython",
    "version": 3
   },
   "file_extension": ".py",
   "mimetype": "text/x-python",
   "name": "python",
   "nbconvert_exporter": "python",
   "pygments_lexer": "ipython3",
   "version": "3.9.12"
  }
 },
 "nbformat": 4,
 "nbformat_minor": 5
}
