{
 "cells": [
  {
   "cell_type": "markdown",
   "id": "e06d1499",
   "metadata": {},
   "source": [
    "# AlexNet\n",
    "In this, I will be attempted to reimplement AlexNet using PyTorch."
   ]
  },
  {
   "cell_type": "code",
   "execution_count": 4,
   "id": "39bd3a12",
   "metadata": {},
   "outputs": [],
   "source": [
    "# basic imports\n",
    "import torch\n",
    "import torch.nn as nn\n",
    "import torch.nn.functional as F"
   ]
  },
  {
   "cell_type": "code",
   "execution_count": 7,
   "id": "4a25cce1",
   "metadata": {},
   "outputs": [],
   "source": [
    "# defining the network structure\n",
    "class Net(nn.Module):\n",
    "    def __init__(self):\n",
    "        self.cnv1 = nn.Conv2d(in_channels=3, out_channels=96, stride=4, kernel_size=11, padding=0)\n",
    "        self.mp = nn.MaxPool2d(kernel_size=3, stride=2)\n",
    "        self.cnv2 = nn.Conv2d(in_channels=96, out_channels=256,kernel_size=5, padding=2, stride=1)\n",
    "        self.cnv3 = nn.Conv2d(in_channels=256, out_channels=384,kernel_size=3, padding=1, stride=1)\n",
    "        self.cnv4 = nn.Conv2d(in_channels=384, out_channels=384,kernel_size=3, padding=1, stride=1)\n",
    "        self.cnv5 = nn.Conv2d(in_channels=384, out_channels=256,kernel_size=3, padding=1, stride=1)\n",
    "        self.fc1 = nn.Linear(in_features=9216, out_features=4096)\n",
    "        self.fc2 = nn.Linear(in_features=4096, out_features=4096)\n",
    "        self.fc3 = nn.Linear(in_features=4096, out_features=10)\n",
    "        \n",
    "    def forward(self, x):\n",
    "        x = F.relu(self.conv1(x))\n",
    "        x = self.mp(x)\n",
    "        x = F.relu(self.conv2(x))\n",
    "        x = self.mp(x)\n",
    "        x = self.conv3(x)\n",
    "        x = self.conv4(x)\n",
    "        x = self.conv5(x)\n",
    "        x = self.mp(x)\n",
    "        \n",
    "        x = x.reshape(x.shape[0],-1)\n",
    "        x = self.fc1(x)\n",
    "        x = self.fc2(x)\n",
    "        x = self.fc3(x)\n",
    "        \n",
    "        return x"
   ]
  },
  {
   "cell_type": "code",
   "execution_count": null,
   "id": "6b79f10b",
   "metadata": {},
   "outputs": [],
   "source": []
  }
 ],
 "metadata": {
  "kernelspec": {
   "display_name": "Python 3 (ipykernel)",
   "language": "python",
   "name": "python3"
  },
  "language_info": {
   "codemirror_mode": {
    "name": "ipython",
    "version": 3
   },
   "file_extension": ".py",
   "mimetype": "text/x-python",
   "name": "python",
   "nbconvert_exporter": "python",
   "pygments_lexer": "ipython3",
   "version": "3.9.12"
  }
 },
 "nbformat": 4,
 "nbformat_minor": 5
}
