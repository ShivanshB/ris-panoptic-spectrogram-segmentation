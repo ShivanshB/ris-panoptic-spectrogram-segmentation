{
 "cells": [
  {
   "cell_type": "markdown",
   "id": "53da6aff",
   "metadata": {},
   "source": [
    "# Mseed Further Data Analysis of Winter Conditions and Mean Variable Statistics\n",
    "In this notebook I will be continuing with my third iteration of studying mseed file sizes by understanding the correspondence between the seasons and data file size. I will also be calculating statistical values for these data points.\n",
    "\n",
    "Author: Shivansh Baveja\n",
    "Contact: shivansh.baveja@berkeley.edu or sbaveja@mit.edu"
   ]
  },
  {
   "cell_type": "code",
   "execution_count": 3,
   "id": "ebc9de33",
   "metadata": {},
   "outputs": [],
   "source": [
    "# basic imports\n",
    "import os\n",
    "import glob\n",
    "import obspy\n",
    "import numpy as np\n",
    "import pandas as pd\n",
    "import matplotlib as mplt\n",
    "import matplotlib.pyplot as plt\n",
    "\n",
    "# more specific imports\n",
    "from obspy import read\n",
    "from os.path import exists\n",
    "from obspy import UTCDateTime\n",
    "from obspy.clients.fdsn import Client\n",
    "from IPython.display import Markdown as md\n",
    "from IPython.display import Image, display\n",
    "from sklearn.linear_model import LinearRegression\n",
    "from sklearn.preprocessing import PolynomialFeatures\n",
    "\n",
    "%matplotlib inline"
   ]
  },
  {
   "cell_type": "code",
   "execution_count": 4,
   "id": "856fce17",
   "metadata": {},
   "outputs": [],
   "source": [
    "# defining constants\n",
    "SECONDS_IN_A_DAY = 60 * 60 * 24\n",
    "filepath = 'RS_WinterData_FurtherIn/'\n",
    "starttime = UTCDateTime('2015-06-01T11:00:00') # starting in the antartctic winter\n",
    "endtime = starttime + SECONDS_IN_A_DAY\n",
    "\n",
    "# initializing data structures\n",
    "\"\"\"\n",
    "X: holds the file sizes for each day interval's data, X[i] holds\n",
    "   the data for the i+1th day\n",
    "\n",
    "y: holds the day #, with the indices shifted up by one\n",
    "\"\"\"\n",
    "X = []\n",
    "y = np.array(list(range(1, 61)))"
   ]
  },
  {
   "cell_type": "code",
   "execution_count": 5,
   "id": "7cef4e40",
   "metadata": {},
   "outputs": [],
   "source": [
    "# define values for the data query\n",
    "client = Client('IRIS')\n",
    "net = 'XH'\n",
    "sta = 'RS18'\n",
    "chan = 'LH*'\n",
    "loc = '--'"
   ]
  },
  {
   "cell_type": "code",
   "execution_count": 6,
   "id": "614c174a",
   "metadata": {},
   "outputs": [],
   "source": [
    "# defining a function to save the data to the 60DayData folder\n",
    "def save_stream(st, filename):\n",
    "    path = filepath + filename + \".mseed\"\n",
    "    st.write(filename=path, format=\"MSEED\")\n",
    "\n",
    "# loop to query the data for each of 60 days and save it in different files\n",
    "\n",
    "\"\"\"\n",
    "1. query the data for the correct time period\n",
    "2. save the data in the correct file\n",
    "3. update the start and endtimes\n",
    "4. query the size of the file and put it in X[i]\n",
    "\"\"\"\n",
    "if not exists('RS_WinterData_FurtherIn/60.mseed'):\n",
    "    for i in range(1, 61):\n",
    "    #     querying for data\n",
    "        st = client.get_waveforms(net, sta, loc, chan, starttime, endtime, attach_response = True)\n",
    "\n",
    "    #     saving stream to file\n",
    "        path = 'RS_WinterData_FurtherIn/' + str(i) + \".mseed\"\n",
    "        st.write(filename=path, format=\"MSEED\")\n",
    "\n",
    "    #     updating start and end times\n",
    "        starttime = endtime\n",
    "        endtime = starttime + SECONDS_IN_A_DAY\n",
    "\n",
    "    #     saving the file size in data array\n",
    "        X.append((os.path.getsize(filepath + str(i) + '.mseed'))/(1000000.))\n",
    "else:\n",
    "    for i in range(1,61):\n",
    "        X.append(os.path.getsize(filepath + str(i) + '.mseed')/(1000000.))"
   ]
  },
  {
   "cell_type": "code",
   "execution_count": 7,
   "id": "9a12a67a",
   "metadata": {},
   "outputs": [],
   "source": [
    "X_summer = []\n",
    "\n",
    "if not exists('RS_SummerData_FurtherIn/60.mseed'):\n",
    "    for i in range(1, 61):\n",
    "    #     querying for data\n",
    "        st = client.get_waveforms(net, sta, loc, chan, starttime, endtime, attach_response = True)\n",
    "\n",
    "    #     saving stream to file\n",
    "        path = 'RS_SummerData_FurtherIn/' + str(i) + \".mseed\"\n",
    "        st.write(filename=path, format=\"MSEED\")\n",
    "\n",
    "    #     updating start and end times\n",
    "        starttime = endtime\n",
    "        endtime = starttime + SECONDS_IN_A_DAY\n",
    "\n",
    "    #     saving the file size in data array\n",
    "        X_summer.append((os.path.getsize('RS_SummerData_FurtherIn/' + str(i) + '.mseed'))/(1000000.))\n",
    "else:\n",
    "    for i in range(1,61):\n",
    "        X_summer.append(os.path.getsize('RS_SummerData_FurtherIn/' + str(i) + '.mseed')/(1000000.))"
   ]
  },
  {
   "cell_type": "code",
   "execution_count": 8,
   "id": "5f183093",
   "metadata": {},
   "outputs": [
    {
     "name": "stdout",
     "output_type": "stream",
     "text": [
      "[0.315392, 0.319488, 0.32768, 0.323584, 0.315392, 0.323584, 0.339968, 0.32768, 0.32768, 0.335872, 0.32768, 0.32768, 0.323584, 0.323584, 0.323584, 0.323584, 0.331776, 0.32768, 0.319488, 0.315392, 0.32768, 0.335872, 0.331776, 0.32768, 0.323584, 0.335872, 0.323584, 0.32768, 0.32768, 0.339968, 0.335872, 0.331776, 0.32768, 0.32768, 0.323584, 0.331776, 0.335872, 0.344064, 0.335872, 0.32768, 0.356352, 0.352256, 0.352256, 0.352256, 0.376832, 0.376832, 0.344064, 0.34816, 0.364544, 0.32768, 0.32768, 0.315392, 0.323584, 0.319488, 0.319488, 0.331776, 0.344064, 0.323584, 0.315392, 0.315392]\n",
      "[0.323584, 0.339968, 0.339968, 0.331776, 0.331776, 0.32768, 0.32768, 0.323584, 0.335872, 0.335872, 0.32768, 0.315392, 0.315392, 0.319488, 0.323584, 0.323584, 0.32768, 0.339968, 0.331776, 0.315392, 0.319488, 0.311296, 0.311296, 0.315392, 0.32768, 0.323584, 0.339968, 0.335872, 0.32768, 0.331776, 0.315392, 0.315392, 0.311296, 0.315392, 0.319488, 0.319488, 0.311296, 0.315392, 0.319488, 0.323584, 0.319488, 0.311296, 0.32768, 0.32768, 0.335872, 0.32768, 0.315392, 0.331776, 0.360448, 0.339968, 0.323584, 0.32768, 0.323584, 0.311296, 0.303104, 0.319488, 0.303104, 0.303104, 0.3072, 0.335872]\n"
     ]
    },
    {
     "data": {
      "text/plain": [
       "<matplotlib.legend.Legend at 0x7f7b0283baf0>"
      ]
     },
     "execution_count": 8,
     "metadata": {},
     "output_type": "execute_result"
    },
    {
     "data": {
      "image/png": "[encoded data removed]",
      "text/plain": [
       "<Figure size 432x288 with 1 Axes>"
      ]
     },
     "metadata": {
      "needs_background": "light"
     },
     "output_type": "display_data"
    }
   ],
   "source": [
    "# validation of data\n",
    "print(X)\n",
    "print(X_summer)\n",
    "\n",
    "# get basic scatter plot of the data\n",
    "ax = plt.gca()\n",
    "ax.set_xlabel('Day #')\n",
    "ax.set_ylabel('Size in Megabytes of Data')\n",
    "ax.set_title('Size of One Day Mseed Data Files Over A 60 Day Period of the Antarctic Winter')\n",
    "\n",
    "plt.scatter(y,X)\n",
    "plt.scatter(y, X_summer)\n",
    "ax.set_ybound(0, 1)\n",
    "        \n",
    "# get basic scatter plot of the data\n",
    "ax = plt.gca()\n",
    "ax.set_xlabel('Day #')\n",
    "ax.set_ylabel('Size in Megabytes of Data')\n",
    "ax.set_title('Size of One Day Mseed Data Files Over A 60 Day Period (RS18)')\n",
    "\n",
    "ax.set_ybound(0, 1)\n",
    "\n",
    "plt.legend(['Winter Months', 'Summer Months'])"
   ]
  },
  {
   "cell_type": "code",
   "execution_count": 10,
   "id": "7bad8785",
   "metadata": {},
   "outputs": [
    {
     "name": "stdout",
     "output_type": "stream",
     "text": [
      "Max winter file size for RS18 in megabytes is 0.376832\n",
      "Max summer file size for RS18 in megabytes is 0.360448\n"
     ]
    }
   ],
   "source": [
    "print(f\"Max winter file size for RS18 in megabytes is {max(X)}\")\n",
    "print(f\"Max summer file size for RS18 in megabytes is {max(X_summer)}\")"
   ]
  },
  {
   "cell_type": "code",
   "execution_count": 12,
   "id": "55375725",
   "metadata": {},
   "outputs": [
    {
     "name": "stdout",
     "output_type": "stream",
     "text": [
      "Mean: 0.33184426666666667\n",
      "Median: 0.32768\n",
      "Std dev: 0.013636085105174268\n"
     ]
    }
   ],
   "source": [
    "# we will calculate the mean, median, and stdev\n",
    "print(\"Mean: \" + str(np.mean(X)))\n",
    "print(\"Median: \" + str(np.median(X)))\n",
    "print(\"Std dev: \" + str(np.std(X)))"
   ]
  },
  {
   "cell_type": "markdown",
   "id": "22ff9326",
   "metadata": {},
   "source": [
    "In contrast, these are the statistics we got for the Antarctic summer.\n",
    "\n",
    "Mean: 0.4051626666666666\n",
    "Median: 0.38707199999999997\n",
    "Std dev: 0.057223390623842706\n",
    "\n",
    "We can see that in the plot for the summer months above that the average data flow has far larger fluctuations and a higher mean and median for data value size. This fits with the hypothesis that less events = smaller file size."
   ]
  },
  {
   "cell_type": "markdown",
   "id": "78b08007",
   "metadata": {},
   "source": [
    "We will now make sure that this is not an artifact dependent on the station we're using."
   ]
  },
  {
   "cell_type": "code",
   "execution_count": 13,
   "id": "9adc8c60",
   "metadata": {},
   "outputs": [],
   "source": [
    "# define values for the data query\n",
    "client = Client('IRIS')\n",
    "net = 'XH'\n",
    "sta = 'DR16'\n",
    "chan = 'LH*'\n",
    "loc = '--'"
   ]
  },
  {
   "cell_type": "code",
   "execution_count": 14,
   "id": "ca310f13",
   "metadata": {},
   "outputs": [],
   "source": [
    "# defining more constants\n",
    "SECONDS_IN_A_DAY = 60 * 60 * 24\n",
    "filepathDR02 = 'DR_WinterData_FurtherIn/'\n",
    "starttime = UTCDateTime('2015-06-01T11:00:00') # starting in the antartctic winter\n",
    "endtime = starttime + SECONDS_IN_A_DAY\n",
    "\n",
    "# initializing data structures\n",
    "\"\"\"\n",
    "X: holds the file sizes for each day interval's data, X[i] holds\n",
    "   the data for the i+1th day\n",
    "\n",
    "y: holds the day #, with the indices shifted up by one\n",
    "\"\"\"\n",
    "X_DR02_w = []"
   ]
  },
  {
   "cell_type": "code",
   "execution_count": 15,
   "id": "ea2d29e0",
   "metadata": {},
   "outputs": [],
   "source": [
    "# defining a function to save the data to the DR02 Winter folder\n",
    "def save_stream(st, filename):\n",
    "    path = filepathDR02 + filename + \".mseed\"\n",
    "    st.write(filename=path, format=\"MSEED\")\n",
    "\n",
    "# resetting the starttime\n",
    "starttime = UTCDateTime('2015-06-01T11:00:00') # starting in the antartctic winter\n",
    "    \n",
    "# loop to query the data for each of 60 days and save it in different files\n",
    "\n",
    "\"\"\"\n",
    "1. query the data for the correct time period\n",
    "2. save the data in the correct file\n",
    "3. update the start and endtimes\n",
    "4. query the size of the file and put it in X[i]\n",
    "\"\"\"\n",
    "if not exists('DR_WinterData_FurtherIn/60.mseed'):\n",
    "    for i in range(1, 61):\n",
    "    #     querying for data\n",
    "        st = client.get_waveforms(net, sta, loc, chan, starttime, endtime, attach_response = True)\n",
    "\n",
    "    #     saving stream to file\n",
    "        path = 'DR_WinterData_FurtherIn/' + str(i) + \".mseed\"\n",
    "        st.write(filename=path, format=\"MSEED\")\n",
    "        \n",
    "    #     updating start and end times\n",
    "        starttime = endtime\n",
    "        endtime = starttime + SECONDS_IN_A_DAY\n",
    "\n",
    "    #     saving the file size in data array\n",
    "        X_DR02_w.append((os.path.getsize('DR_WinterData_FurtherIn/' + str(i) + '.mseed'))/(1000000.))\n",
    "else:\n",
    "    for i in range(1,61):\n",
    "        X_DR02_w.append(os.path.getsize('DR_WinterData_FurtherIn/' + str(i) + '.mseed')/(1000000.))"
   ]
  },
  {
   "cell_type": "code",
   "execution_count": 16,
   "id": "44f14b7d",
   "metadata": {},
   "outputs": [],
   "source": [
    "# defining a function to save the data to the DR02 Winter folder\n",
    "def save_stream(st, filename):\n",
    "    path = 'DR_SummerData_FurtherIn/' + filename + \".mseed\"\n",
    "    st.write(filename=path, format=\"MSEED\")\n",
    "\n",
    "\n",
    "    \n",
    "\"\"\"\n",
    "1. query the data for the correct time period\n",
    "2. save the data in the correct file\n",
    "3. update the start and endtimes\n",
    "4. query the size of the file and put it in X[i]\n",
    "\"\"\"\n",
    "\n",
    "\n",
    "#     array to hold summer data\n",
    "X_DR02_s = []    \n",
    "    \n",
    "\n",
    "starttime = UTCDateTime('2015-01-17T11:00:00') # starting in the antartctic summer\n",
    "endtime = starttime + SECONDS_IN_A_DAY\n",
    "\n",
    "filepath = 'DR_SummerData_FurtherIn/'\n",
    "\n",
    "if not exists('DR_SummerData_FurtherIn/60.mseed'):\n",
    "    for i in range(1, 61):\n",
    "    #     querying for data\n",
    "        st = client.get_waveforms(net, sta, loc, chan, starttime, endtime, attach_response = True)\n",
    "        \n",
    "    #     saving stream to file\n",
    "        path = 'DR_SummerData_FurtherIn/' + str(i) + \".mseed\"\n",
    "        st.write(filename=path, format=\"MSEED\")\n",
    "\n",
    "    #     updating start and end times\n",
    "        starttime = endtime\n",
    "        endtime = starttime + SECONDS_IN_A_DAY\n",
    "\n",
    "    #     saving the file size in data array\n",
    "        X_DR02_s.append((os.path.getsize(filepath + str(i) + '.mseed'))/(1000000.))\n",
    "else:\n",
    "    for i in range(1,61):\n",
    "        X_DR02_s.append(os.path.getsize(filepath + str(i) + '.mseed')/(1000000.))"
   ]
  },
  {
   "cell_type": "code",
   "execution_count": 17,
   "id": "1ec129f7",
   "metadata": {},
   "outputs": [
    {
     "name": "stdout",
     "output_type": "stream",
     "text": [
      "60\n"
     ]
    },
    {
     "data": {
      "text/plain": [
       "<matplotlib.legend.Legend at 0x7f7b01693d90>"
      ]
     },
     "execution_count": 17,
     "metadata": {},
     "output_type": "execute_result"
    },
    {
     "data": {
      "image/png": "[encoded data removed]",
      "text/plain": [
       "<Figure size 432x288 with 1 Axes>"
      ]
     },
     "metadata": {
      "needs_background": "light"
     },
     "output_type": "display_data"
    }
   ],
   "source": [
    "# get basic scatter plot of the data\n",
    "ax = plt.gca()\n",
    "ax.set_xlabel('Day #')\n",
    "ax.set_ylabel('Size in Megabytes of Data')\n",
    "ax.set_title('Size of One Day Mseed Data Files Over A 60 Day Period of the Antarctic Winter (DR02)')\n",
    "\n",
    "plt.scatter(y,X_DR02_w)\n",
    "ax.set_ybound(0, 1)\n",
    "\n",
    "\n",
    "        \n",
    "# get basic scatter plot of the data\n",
    "ax = plt.gca()\n",
    "ax.set_xlabel('Day #')\n",
    "ax.set_ylabel('Size in Megabytes of Data')\n",
    "ax.set_title('Size of One Day Mseed Data Files Over A 60 Day Period (DR16)')\n",
    "\n",
    "print(len(X_DR02_s))\n",
    "plt.scatter(y,X_DR02_s)\n",
    "ax.set_ybound(0, 1)\n",
    "\n",
    "plt.legend(['Winter Months', 'Summer Months'])"
   ]
  },
  {
   "cell_type": "code",
   "execution_count": 19,
   "id": "a03ee15d",
   "metadata": {},
   "outputs": [
    {
     "name": "stdout",
     "output_type": "stream",
     "text": [
      "Max winter file size for DR16 in megabytes is 0.344064\n",
      "Max summer file size for DR16 in megabytes is 0.446464\n"
     ]
    }
   ],
   "source": [
    "print(f\"Max winter file size for DR16 in megabytes is {max(X_DR02_w)}\")\n",
    "print(f\"Max summer file size for DR16 in megabytes is {max(X_DR02_s)}\")"
   ]
  },
  {
   "cell_type": "code",
   "execution_count": 14,
   "id": "96b3d8a1",
   "metadata": {},
   "outputs": [
    {
     "name": "stdout",
     "output_type": "stream",
     "text": [
      "[0.315392, 0.319488, 0.32768, 0.323584, 0.315392, 0.323584, 0.339968, 0.32768, 0.32768, 0.335872, 0.32768, 0.32768, 0.323584, 0.323584, 0.323584, 0.323584, 0.331776, 0.32768, 0.319488, 0.315392, 0.32768, 0.335872, 0.331776, 0.32768, 0.323584, 0.335872, 0.323584, 0.32768, 0.32768, 0.339968, 0.335872, 0.331776, 0.32768, 0.32768, 0.323584, 0.331776, 0.335872, 0.344064, 0.335872, 0.32768, 0.356352, 0.352256, 0.352256, 0.352256, 0.376832, 0.376832, 0.344064, 0.34816, 0.364544, 0.32768, 0.32768, 0.315392, 0.323584, 0.319488, 0.319488, 0.331776, 0.344064, 0.323584, 0.315392, 0.315392]\n"
     ]
    }
   ],
   "source": [
    "print(X)"
   ]
  },
  {
   "cell_type": "code",
   "execution_count": 15,
   "id": "6c359e34",
   "metadata": {},
   "outputs": [
    {
     "name": "stdout",
     "output_type": "stream",
     "text": [
      "[0.323584, 0.339968, 0.339968, 0.331776, 0.331776, 0.32768, 0.32768, 0.323584, 0.335872, 0.335872, 0.32768, 0.315392, 0.315392, 0.319488, 0.323584, 0.323584, 0.32768, 0.339968, 0.331776, 0.315392, 0.319488, 0.311296, 0.311296, 0.315392, 0.32768, 0.323584, 0.339968, 0.335872, 0.32768, 0.331776, 0.315392, 0.315392, 0.311296, 0.315392, 0.319488, 0.319488, 0.311296, 0.315392, 0.319488, 0.323584, 0.319488, 0.311296, 0.32768, 0.32768, 0.335872, 0.32768, 0.315392, 0.331776, 0.360448, 0.339968, 0.323584, 0.32768, 0.323584, 0.311296, 0.303104, 0.319488, 0.303104, 0.303104, 0.3072, 0.335872]\n"
     ]
    }
   ],
   "source": [
    "print(X_summer)"
   ]
  },
  {
   "cell_type": "code",
   "execution_count": 16,
   "id": "abe6a627",
   "metadata": {},
   "outputs": [
    {
     "name": "stdout",
     "output_type": "stream",
     "text": [
      "[0.3072, 0.3072, 0.315392, 0.311296, 0.3072, 0.319488, 0.323584, 0.319488, 0.319488, 0.319488, 0.319488, 0.319488, 0.315392, 0.319488, 0.315392, 0.315392, 0.32768, 0.315392, 0.315392, 0.3072, 0.315392, 0.323584, 0.319488, 0.319488, 0.315392, 0.323584, 0.315392, 0.319488, 0.319488, 0.32768, 0.323584, 0.32768, 0.315392, 0.32768, 0.323584, 0.323584, 0.32768, 0.331776, 0.32768, 0.315392, 0.32768, 0.331776, 0.331776, 0.331776, 0.335872, 0.344064, 0.32768, 0.32768, 0.339968, 0.319488, 0.315392, 0.315392, 0.315392, 0.311296, 0.311296, 0.323584, 0.323584, 0.315392, 0.3072, 0.311296]\n"
     ]
    }
   ],
   "source": [
    "print(X_DR02_w)"
   ]
  },
  {
   "cell_type": "code",
   "execution_count": 17,
   "id": "86d4dd7b",
   "metadata": {},
   "outputs": [
    {
     "name": "stdout",
     "output_type": "stream",
     "text": [
      "[0.352256, 0.380928, 0.385024, 0.323584, 0.3072, 0.315392, 0.315392, 0.319488, 0.315392, 0.315392, 0.319488, 0.319488, 0.3072, 0.311296, 0.3072, 0.299008, 0.303104, 0.303104, 0.34816, 0.446464, 0.438272, 0.413696, 0.344064, 0.335872, 0.323584, 0.323584, 0.319488, 0.315392, 0.319488, 0.331776, 0.331776, 0.323584, 0.319488, 0.331776, 0.331776, 0.335872, 0.421888, 0.401408, 0.385024, 0.36864, 0.356352, 0.34816, 0.331776, 0.364544, 0.360448, 0.417792, 0.335872, 0.335872, 0.34816, 0.356352, 0.331776, 0.323584, 0.319488, 0.323584, 0.331776, 0.335872, 0.331776, 0.335872, 0.339968, 0.331776]\n"
     ]
    }
   ],
   "source": [
    "print(X_DR02_s)"
   ]
  },
  {
   "cell_type": "code",
   "execution_count": 18,
   "id": "9625480c",
   "metadata": {},
   "outputs": [
    {
     "name": "stdout",
     "output_type": "stream",
     "text": [
      "==== Summer ====\n",
      "Mean: 0.34119679999999997\n",
      "Median: 0.331776\n",
      "Std dev: 0.033687784348237174\n",
      "\n",
      "==== Winter ====\n",
      "Mean: 0.32051199999999996\n",
      "Median: 0.319488\n",
      "Std dev: 0.008006431548032707\n"
     ]
    }
   ],
   "source": [
    "# we will calculate the mean, median, and stdev\n",
    "print('==== Summer ====')\n",
    "print(\"Mean: \" + str(np.mean(X_DR02_s)))\n",
    "print(\"Median: \" + str(np.median(X_DR02_s)))\n",
    "print(\"Std dev: \" + str(np.std(X_DR02_s)))\n",
    "print('')\n",
    "print('==== Winter ====')\n",
    "print(\"Mean: \" + str(np.mean(X_DR02_w)))\n",
    "print(\"Median: \" + str(np.median(X_DR02_w)))\n",
    "print(\"Std dev: \" + str(np.std(X_DR02_w)))"
   ]
  },
  {
   "cell_type": "code",
   "execution_count": null,
   "id": "8eef28b9",
   "metadata": {},
   "outputs": [],
   "source": []
  }
 ],
 "metadata": {
  "kernelspec": {
   "display_name": "Python 3 (ipykernel)",
   "language": "python",
   "name": "python3"
  },
  "language_info": {
   "codemirror_mode": {
    "name": "ipython",
    "version": 3
   },
   "file_extension": ".py",
   "mimetype": "text/x-python",
   "name": "python",
   "nbconvert_exporter": "python",
   "pygments_lexer": "ipython3",
   "version": "3.9.12"
  }
 },
 "nbformat": 4,
 "nbformat_minor": 5
}
