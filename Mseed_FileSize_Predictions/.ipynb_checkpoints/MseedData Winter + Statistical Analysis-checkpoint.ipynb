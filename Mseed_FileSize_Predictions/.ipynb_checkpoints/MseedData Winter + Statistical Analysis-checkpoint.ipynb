{
 "cells": [
  {
   "cell_type": "markdown",
   "id": "53da6aff",
   "metadata": {},
   "source": [
    "# Mseed Further Data Analysis of Winter Conditions and Mean Variable Statistics\n",
    "In this notebook I will be continuing with my third iteration of studying mseed file sizes by understanding the correspondence between the seasons and data file size. I will also be calculating statistical values for these data points.\n",
    "\n",
    "Author: Shivansh Baveja\n",
    "Contact: shivansh.baveja@berkeley.edu or sbaveja@mit.edu"
   ]
  },
  {
   "cell_type": "code",
   "execution_count": 1,
   "id": "ebc9de33",
   "metadata": {},
   "outputs": [],
   "source": [
    "# basic imports\n",
    "import os\n",
    "import glob\n",
    "import obspy\n",
    "import numpy as np\n",
    "import pandas as pd\n",
    "import matplotlib as mplt\n",
    "import matplotlib.pyplot as plt\n",
    "\n",
    "# more specific imports\n",
    "from obspy import read\n",
    "from os.path import exists\n",
    "from obspy import UTCDateTime\n",
    "from obspy.clients.fdsn import Client\n",
    "from IPython.display import Markdown as md\n",
    "from IPython.display import Image, display\n",
    "from sklearn.linear_model import LinearRegression\n",
    "from sklearn.preprocessing import PolynomialFeatures\n",
    "\n",
    "%matplotlib inline"
   ]
  },
  {
   "cell_type": "code",
   "execution_count": 2,
   "id": "856fce17",
   "metadata": {},
   "outputs": [],
   "source": [
    "# defining constants\n",
    "SECONDS_IN_A_DAY = 60 * 60 * 24\n",
    "filepath = 'WinterData/'\n",
    "starttime = UTCDateTime('2015-06-01T11:00:00') # starting in the antartctic winter\n",
    "endtime = starttime + SECONDS_IN_A_DAY\n",
    "\n",
    "# initializing data structures\n",
    "\"\"\"\n",
    "X: holds the file sizes for each day interval's data, X[i] holds\n",
    "   the data for the i+1th day\n",
    "\n",
    "y: holds the day #, with the indices shifted up by one\n",
    "\"\"\"\n",
    "X = []\n",
    "y = np.array(list(range(1, 61)))"
   ]
  },
  {
   "cell_type": "code",
   "execution_count": 13,
   "id": "7cef4e40",
   "metadata": {},
   "outputs": [],
   "source": [
    "# define values for the data query\n",
    "client = Client('IRIS')\n",
    "net = 'XH'\n",
    "sta = 'RS07'\n",
    "chan = 'LH*'\n",
    "loc = '--'"
   ]
  },
  {
   "cell_type": "code",
   "execution_count": 14,
   "id": "614c174a",
   "metadata": {},
   "outputs": [],
   "source": [
    "# defining a function to save the data to the 60DayData folder\n",
    "def save_stream(st, filename):\n",
    "    path = filepath + filename + \".mseed\"\n",
    "    st.write(filename=path, format=\"MSEED\")\n",
    "\n",
    "# loop to query the data for each of 60 days and save it in different files\n",
    "\n",
    "\"\"\"\n",
    "1. query the data for the correct time period\n",
    "2. save the data in the correct file\n",
    "3. update the start and endtimes\n",
    "4. query the size of the file and put it in X[i]\n",
    "\"\"\"\n",
    "if not exists('WinterData/60.mseed'):\n",
    "    for i in range(1, 61):\n",
    "    #     querying for data\n",
    "        st = client.get_waveforms(net, sta, loc, chan, starttime, endtime, attach_response = True)\n",
    "\n",
    "    #     saving stream to file\n",
    "        save_stream(st, str(i))\n",
    "\n",
    "    #     updating start and end times\n",
    "        starttime = endtime\n",
    "        endtime = starttime + SECONDS_IN_A_DAY\n",
    "\n",
    "    #     saving the file size in data array\n",
    "        X.append((os.path.getsize(filepath + str(i) + '.mseed'))/(1000000.))\n",
    "else:\n",
    "    for i in range(1,61):\n",
    "        X.append(os.path.getsize(filepath + str(i) + '.mseed')/(1000000.))"
   ]
  },
  {
   "cell_type": "code",
   "execution_count": 15,
   "id": "5f183093",
   "metadata": {},
   "outputs": [
    {
     "name": "stdout",
     "output_type": "stream",
     "text": [
      "0.339968\n"
     ]
    },
    {
     "data": {
      "text/plain": [
       "<matplotlib.legend.Legend at 0x7f86e0695310>"
      ]
     },
     "execution_count": 15,
     "metadata": {},
     "output_type": "execute_result"
    },
    {
     "data": {
      "image/png": "[encoded data removed]",
      "text/plain": [
       "<Figure size 432x288 with 1 Axes>"
      ]
     },
     "metadata": {
      "needs_background": "light"
     },
     "output_type": "display_data"
    }
   ],
   "source": [
    "# validation of data\n",
    "print(X[0])\n",
    "\n",
    "# get basic scatter plot of the data\n",
    "ax = plt.gca()\n",
    "ax.set_xlabel('Day #')\n",
    "ax.set_ylabel('Size in Megabytes of Data')\n",
    "ax.set_title('Size of One Day Mseed Data Files Over A 60 Day Period of the Antarctic Winter')\n",
    "\n",
    "plt.scatter(y,X)\n",
    "ax.set_ybound(0, 1)\n",
    "\n",
    "# plotting the summer values\n",
    "X_summer = []\n",
    "\n",
    "for i in range(1,61):\n",
    "        X_summer.append(os.path.getsize('60DayData/' + str(i) + '.mseed')/(1000000.))\n",
    "        \n",
    "# get basic scatter plot of the data\n",
    "ax = plt.gca()\n",
    "ax.set_xlabel('Day #')\n",
    "ax.set_ylabel('Size in Megabytes of Data')\n",
    "ax.set_title('Size of One Day Mseed Data Files Over A 60 Day Period (RS07)')\n",
    "\n",
    "\n",
    "plt.scatter(y,X_summer)\n",
    "ax.set_ybound(0, 1)\n",
    "\n",
    "plt.legend(['Winter Months', 'Summer Months'])"
   ]
  },
  {
   "cell_type": "code",
   "execution_count": 26,
   "id": "55375725",
   "metadata": {},
   "outputs": [
    {
     "name": "stdout",
     "output_type": "stream",
     "text": [
      "Mean: 0.34979839999999995\n",
      "Median: 0.34816\n",
      "Std dev: 0.009195497193735637\n",
      "Max (RS07) winter: 0.385024\n",
      "Max (RS07) summer: 0.544768\n"
     ]
    }
   ],
   "source": [
    "# we will calculate the mean, median, and stdev\n",
    "print(\"Mean: \" + str(np.mean(X)))\n",
    "print(\"Median: \" + str(np.median(X)))\n",
    "print(\"Std dev: \" + str(np.std(X)))\n",
    "print(\"Max (RS07) winter: \" + str(max(X)))\n",
    "print(\"Max (RS07) summer: \" + str(max(X_summer)))"
   ]
  },
  {
   "cell_type": "markdown",
   "id": "22ff9326",
   "metadata": {},
   "source": [
    "In contrast, these are the statistics we got for the Antarctic summer.\n",
    "\n",
    "Mean: 0.4051626666666666\n",
    "Median: 0.38707199999999997\n",
    "Std dev: 0.057223390623842706\n",
    "\n",
    "We can see that in the plot for the summer months above that the average data flow has far larger fluctuations and a higher mean and median for data value size. This fits with the hypothesis that less events = smaller file size."
   ]
  },
  {
   "cell_type": "markdown",
   "id": "78b08007",
   "metadata": {},
   "source": [
    "We will now make sure that this is not an artifact dependent on the station we're using."
   ]
  },
  {
   "cell_type": "code",
   "execution_count": 3,
   "id": "9adc8c60",
   "metadata": {},
   "outputs": [],
   "source": [
    "# define values for the data query\n",
    "client = Client('IRIS')\n",
    "net = 'XH'\n",
    "sta = 'DR02'\n",
    "chan = 'LH*'\n",
    "loc = '--'"
   ]
  },
  {
   "cell_type": "code",
   "execution_count": 4,
   "id": "ca310f13",
   "metadata": {},
   "outputs": [],
   "source": [
    "# defining more constants\n",
    "SECONDS_IN_A_DAY = 60 * 60 * 24\n",
    "filepathDR02 = 'WinterData_DR02/'\n",
    "starttime = UTCDateTime('2015-06-01T11:00:00') # starting in the antartctic winter\n",
    "endtime = starttime + SECONDS_IN_A_DAY\n",
    "\n",
    "# initializing data structures\n",
    "\"\"\"\n",
    "X: holds the file sizes for each day interval's data, X[i] holds\n",
    "   the data for the i+1th day\n",
    "\n",
    "y: holds the day #, with the indices shifted up by one\n",
    "\"\"\"\n",
    "X_DR02_w = []"
   ]
  },
  {
   "cell_type": "code",
   "execution_count": 5,
   "id": "ea2d29e0",
   "metadata": {},
   "outputs": [],
   "source": [
    "# defining a function to save the data to the DR02 Winter folder\n",
    "def save_stream(st, filename):\n",
    "    path = filepathDR02 + filename + \".mseed\"\n",
    "    st.write(filename=path, format=\"MSEED\")\n",
    "\n",
    "# resetting the starttime\n",
    "starttime = UTCDateTime('2015-06-01T11:00:00') # starting in the antartctic winter\n",
    "    \n",
    "# loop to query the data for each of 60 days and save it in different files\n",
    "\n",
    "\"\"\"\n",
    "1. query the data for the correct time period\n",
    "2. save the data in the correct file\n",
    "3. update the start and endtimes\n",
    "4. query the size of the file and put it in X[i]\n",
    "\"\"\"\n",
    "if not exists('WinterData_DR02/60.mseed'):\n",
    "    for i in range(1, 61):\n",
    "    #     querying for data\n",
    "        st = client.get_waveforms(net, sta, loc, chan, starttime, endtime, attach_response = True)\n",
    "\n",
    "    #     saving stream to file\n",
    "        save_stream(st, str(i))\n",
    "\n",
    "    #     updating start and end times\n",
    "        starttime = endtime\n",
    "        endtime = starttime + SECONDS_IN_A_DAY\n",
    "\n",
    "    #     saving the file size in data array\n",
    "        X_DR02_w.append((os.path.getsize('WinterData_DR02/' + str(i) + '.mseed'))/(1000000.))\n",
    "else:\n",
    "    for i in range(1,61):\n",
    "        X_DR02_w.append(os.path.getsize('WinterData_DR02/' + str(i) + '.mseed')/(1000000.))"
   ]
  },
  {
   "cell_type": "code",
   "execution_count": 6,
   "id": "44f14b7d",
   "metadata": {},
   "outputs": [],
   "source": [
    "# defining a function to save the data to the DR02 Winter folder\n",
    "def save_stream(st, filename):\n",
    "    path = 'SummerData_DR02/' + filename + \".mseed\"\n",
    "    st.write(filename=path, format=\"MSEED\")\n",
    "\n",
    "\"\"\"\n",
    "1. query the data for the correct time period\n",
    "2. save the data in the correct file\n",
    "3. update the start and endtimes\n",
    "4. query the size of the file and put it in X[i]\n",
    "\"\"\"\n",
    "\n",
    "\n",
    "#     array to hold summer data\n",
    "X_DR02_s = []    \n",
    "    \n",
    "\n",
    "starttime = UTCDateTime('2015-01-17T11:00:00') # starting in the antarctic summer\n",
    "endtime = starttime + SECONDS_IN_A_DAY\n",
    "\n",
    "filepath = 'SummerData_DR02/'\n",
    "\n",
    "if not exists('SummerData_DR02/60.mseed'):\n",
    "    for i in range(1, 61):\n",
    "    #     querying for data\n",
    "        st = client.get_waveforms(net, sta, loc, chan, starttime, endtime, attach_response = True)\n",
    "    #     saving stream to file\n",
    "        save_stream(st, str(i))\n",
    "\n",
    "    #     updating start and end times\n",
    "        starttime = endtime\n",
    "        endtime = starttime + SECONDS_IN_A_DAY\n",
    "\n",
    "    #     saving the file size in data array\n",
    "        X_DR02_s.append((os.path.getsize(filepath + str(i) + '.mseed'))/(1000000.))\n",
    "else:\n",
    "    for i in range(1,61):\n",
    "        X_DR02_s.append(os.path.getsize(filepath + str(i) + '.mseed')/(1000000.))"
   ]
  },
  {
   "cell_type": "code",
   "execution_count": 7,
   "id": "1ec129f7",
   "metadata": {},
   "outputs": [
    {
     "name": "stdout",
     "output_type": "stream",
     "text": [
      "60\n"
     ]
    },
    {
     "data": {
      "text/plain": [
       "<matplotlib.legend.Legend at 0x7fc7dd186fa0>"
      ]
     },
     "execution_count": 7,
     "metadata": {},
     "output_type": "execute_result"
    },
    {
     "data": {
      "image/png": "[encoded data removed]",
      "text/plain": [
       "<Figure size 432x288 with 1 Axes>"
      ]
     },
     "metadata": {
      "needs_background": "light"
     },
     "output_type": "display_data"
    }
   ],
   "source": [
    "# get basic scatter plot of the data\n",
    "ax = plt.gca()\n",
    "ax.set_xlabel('Day #')\n",
    "ax.set_ylabel('Size in Megabytes of Data')\n",
    "ax.set_title('Size of One Day Mseed Data Files Over A 60 Day Period of the Antarctic Winter (DR02)')\n",
    "\n",
    "plt.scatter(y,X_DR02_w)\n",
    "ax.set_ybound(0, 1)\n",
    "\n",
    "# plotting the summer values\n",
    "X_summer = []\n",
    "\n",
    "for i in range(1,61):\n",
    "        X_summer.append(os.path.getsize('60DayData/' + str(i) + '.mseed')/(1000000.))\n",
    "        \n",
    "# get basic scatter plot of the data\n",
    "ax = plt.gca()\n",
    "ax.set_xlabel('Day #')\n",
    "ax.set_ylabel('Size in Megabytes of Data')\n",
    "ax.set_title('Size of One Day Mseed Data Files Over A 60 Day Period (DR02)')\n",
    "\n",
    "print(len(X_DR02_s))\n",
    "plt.scatter(y,X_DR02_s)\n",
    "ax.set_ybound(0, 1)\n",
    "\n",
    "plt.legend(['Winter Months', 'Summer Months'])"
   ]
  },
  {
   "cell_type": "code",
   "execution_count": 8,
   "id": "a579511a",
   "metadata": {},
   "outputs": [
    {
     "name": "stdout",
     "output_type": "stream",
     "text": [
      "Max (DR02) winter: 0.57344\n",
      "Max (DR02) summer: 1.032192\n"
     ]
    }
   ],
   "source": [
    "print(\"Max (DR02) winter: \" + str(max(X_DR02_w))) \n",
    "print(\"Max (DR02) summer: \" + str(max(X_DR02_s))) "
   ]
  },
  {
   "cell_type": "code",
   "execution_count": 9,
   "id": "96b3d8a1",
   "metadata": {},
   "outputs": [
    {
     "name": "stdout",
     "output_type": "stream",
     "text": [
      "[]\n"
     ]
    }
   ],
   "source": [
    "print(X)"
   ]
  },
  {
   "cell_type": "code",
   "execution_count": 10,
   "id": "6c359e34",
   "metadata": {},
   "outputs": [
    {
     "name": "stdout",
     "output_type": "stream",
     "text": [
      "[0.458752, 0.487424, 0.487424, 0.376832, 0.335872, 0.344064, 0.372736, 0.38912, 0.36864, 0.364544, 0.364544, 0.364544, 0.344064, 0.344064, 0.335872, 0.331776, 0.331776, 0.356352, 0.458752, 0.540672, 0.544768, 0.53248, 0.45056, 0.36864, 0.34816, 0.36864, 0.360448, 0.356352, 0.360448, 0.421888, 0.380928, 0.38912, 0.372736, 0.380928, 0.397312, 0.4096, 0.540672, 0.483328, 0.475136, 0.454656, 0.462848, 0.458752, 0.38912, 0.45056, 0.43008, 0.520192, 0.405504, 0.364544, 0.364544, 0.446464, 0.380928, 0.380928, 0.36864, 0.385024, 0.397312, 0.397312, 0.393216, 0.393216, 0.38912, 0.376832]\n"
     ]
    }
   ],
   "source": [
    "print(X_summer)"
   ]
  },
  {
   "cell_type": "code",
   "execution_count": 11,
   "id": "abe6a627",
   "metadata": {},
   "outputs": [
    {
     "name": "stdout",
     "output_type": "stream",
     "text": [
      "[0.512, 0.540672, 0.557056, 0.561152, 0.561152, 0.557056, 0.561152, 0.565248, 0.565248, 0.565248, 0.57344, 0.565248, 0.565248, 0.565248, 0.565248, 0.565248, 0.561152, 0.557056, 0.557056, 0.557056, 0.557056, 0.561152, 0.561152, 0.561152, 0.557056, 0.557056, 0.557056, 0.561152, 0.565248, 0.565248, 0.565248, 0.565248, 0.561152, 0.557056, 0.561152, 0.561152, 0.561152, 0.557056, 0.557056, 0.557056, 0.557056, 0.557056, 0.557056, 0.55296, 0.557056, 0.557056, 0.557056, 0.561152, 0.561152, 0.565248, 0.565248, 0.565248, 0.561152, 0.561152, 0.561152, 0.569344, 0.561152, 0.557056, 0.557056, 0.561152]\n"
     ]
    }
   ],
   "source": [
    "print(X_DR02_w)"
   ]
  },
  {
   "cell_type": "code",
   "execution_count": 12,
   "id": "86d4dd7b",
   "metadata": {},
   "outputs": [
    {
     "name": "stdout",
     "output_type": "stream",
     "text": [
      "[0.569344, 0.77824, 0.57344, 0.581632, 0.569344, 0.577536, 0.569344, 0.581632, 0.577536, 0.667648, 0.704512, 1.032192, 0.856064, 0.741376, 0.73728, 0.741376, 0.7168, 0.647168, 0.606208, 0.88064, 0.970752, 0.806912, 0.708608, 0.7168, 0.704512, 0.733184, 0.774144, 0.753664, 0.741376, 0.724992, 0.712704, 0.65536, 0.65536, 0.925696, 0.765952, 0.745472, 0.806912, 0.77824, 0.761856, 0.823296, 0.864256, 0.688128, 0.638976, 0.679936, 0.618496, 0.618496, 0.606208, 0.868352, 0.679936, 0.63488, 0.704512, 0.663552, 0.565248, 0.565248, 0.598016, 0.622592, 0.565248, 0.565248, 0.59392, 0.569344]\n"
     ]
    }
   ],
   "source": [
    "print(X_DR02_s)"
   ]
  },
  {
   "cell_type": "code",
   "execution_count": 74,
   "id": "9625480c",
   "metadata": {},
   "outputs": [
    {
     "name": "stdout",
     "output_type": "stream",
     "text": [
      "==== Summer ====\n",
      "Mean: 0.6980949333333333\n",
      "Median: 0.69632\n",
      "Std dev: 0.10926002690552275\n",
      "\n",
      "==== Winter ====\n",
      "Mean: 0.5597866666666668\n",
      "Median: 0.561152\n",
      "Std dev: 0.007759611078455463\n"
     ]
    }
   ],
   "source": [
    "# we will calculate the mean, median, and stdev\n",
    "print('==== Summer ====')\n",
    "print(\"Mean: \" + str(np.mean(X_DR02_s)))\n",
    "print(\"Median: \" + str(np.median(X_DR02_s)))\n",
    "print(\"Std dev: \" + str(np.std(X_DR02_s)))\n",
    "print('')\n",
    "print('==== Winter ====')\n",
    "print(\"Mean: \" + str(np.mean(X_DR02_w)))\n",
    "print(\"Median: \" + str(np.median(X_DR02_w)))\n",
    "print(\"Std dev: \" + str(np.std(X_DR02_w)))"
   ]
  },
  {
   "cell_type": "code",
   "execution_count": null,
   "id": "8eef28b9",
   "metadata": {},
   "outputs": [],
   "source": []
  }
 ],
 "metadata": {
  "kernelspec": {
   "display_name": "Python 3 (ipykernel)",
   "language": "python",
   "name": "python3"
  },
  "language_info": {
   "codemirror_mode": {
    "name": "ipython",
    "version": 3
   },
   "file_extension": ".py",
   "mimetype": "text/x-python",
   "name": "python",
   "nbconvert_exporter": "python",
   "pygments_lexer": "ipython3",
   "version": "3.9.12"
  }
 },
 "nbformat": 4,
 "nbformat_minor": 5
}
