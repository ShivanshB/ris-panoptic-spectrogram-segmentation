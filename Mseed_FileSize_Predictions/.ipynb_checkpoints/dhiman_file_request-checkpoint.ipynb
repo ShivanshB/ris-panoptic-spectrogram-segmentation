{
 "cells": [
  {
   "cell_type": "markdown",
   "id": "a50abf83",
   "metadata": {},
   "source": [
    "# Dhiman File Size Request\n",
    "In this notebook I will be finding the file size of a specific data sample as requested by Dhiman."
   ]
  },
  {
   "cell_type": "code",
   "execution_count": 2,
   "id": "c84ace4b",
   "metadata": {},
   "outputs": [],
   "source": [
    "# basic imports\n",
    "from obspy.clients.fdsn import Client\n",
    "from obspy import read\n",
    "import obspy\n",
    "import numpy as np\n",
    "from obspy import UTCDateTime\n",
    "import matplotlib.pyplot as plt\n",
    "import matplotlib as mplt\n",
    "import os\n",
    "from sklearn.linear_model import LinearRegression\n",
    "from IPython.display import Markdown as md\n",
    "import pandas as pd\n",
    "from sklearn.preprocessing import PolynomialFeatures\n",
    "\n",
    "%matplotlib notebook"
   ]
  },
  {
   "cell_type": "code",
   "execution_count": 10,
   "id": "a7b47d73",
   "metadata": {},
   "outputs": [
    {
     "name": "stdout",
     "output_type": "stream",
     "text": [
      "1.999988425925926\n"
     ]
    }
   ],
   "source": [
    "# retrieve the data shown from certain dates\n",
    "# I will be using a constant data frame length of 1 day.\n",
    "starttime = UTCDateTime('2015-01-17T11:00:00')\n",
    "endtime = UTCDateTime('2015-01-19T10:59:59')\n",
    "\n",
    "timediff = endtime - starttime\n",
    "print(timediff/(60*60*24))\n",
    "\n",
    "# find parameters for data query\n",
    "client = Client('IRIS')\n",
    "net = 'XH'\n",
    "sta = 'DR02'\n",
    "loc = '--'\n",
    "chan = 'LHZ'\n",
    "\n",
    "# query for data\n",
    "st = client.get_waveforms(net, sta, loc, 'LHZ', starttime, endtime, attach_response = True)"
   ]
  },
  {
   "cell_type": "code",
   "execution_count": 7,
   "id": "1e0fe3d0",
   "metadata": {},
   "outputs": [],
   "source": [
    "st.write(filename='Data/test.mseed', format=\"MSEED\")"
   ]
  },
  {
   "cell_type": "code",
   "execution_count": 8,
   "id": "a1c34722",
   "metadata": {},
   "outputs": [
    {
     "data": {
      "text/plain": [
       "491520"
      ]
     },
     "execution_count": 8,
     "metadata": {},
     "output_type": "execute_result"
    }
   ],
   "source": [
    "os.path.getsize('Data/test.mseed')"
   ]
  },
  {
   "cell_type": "markdown",
   "id": "4d80d40d",
   "metadata": {},
   "source": [
    "We see that this file is 0.4915 mb, whereas assuming that the data scales linearly by day, my formula gives 0.401 mb."
   ]
  },
  {
   "cell_type": "code",
   "execution_count": null,
   "id": "ed6120d3",
   "metadata": {},
   "outputs": [],
   "source": []
  }
 ],
 "metadata": {
  "kernelspec": {
   "display_name": "Python 3 (ipykernel)",
   "language": "python",
   "name": "python3"
  },
  "language_info": {
   "codemirror_mode": {
    "name": "ipython",
    "version": 3
   },
   "file_extension": ".py",
   "mimetype": "text/x-python",
   "name": "python",
   "nbconvert_exporter": "python",
   "pygments_lexer": "ipython3",
   "version": "3.9.12"
  }
 },
 "nbformat": 4,
 "nbformat_minor": 5
}
